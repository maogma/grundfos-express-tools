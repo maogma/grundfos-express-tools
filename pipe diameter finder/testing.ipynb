{
 "cells": [
  {
   "cell_type": "code",
   "execution_count": null,
   "metadata": {},
   "outputs": [],
   "source": [
    "import os\n",
    "from utils.file_ops import add_filename_timestamp\n",
    "import shutil\n",
    "import pandas as pd"
   ]
  },
  {
   "cell_type": "code",
   "execution_count": null,
   "metadata": {},
   "outputs": [],
   "source": [
    "myDir=r\"C:\\Projects\\2022\\Michaels_Code\\grundfos-express-tools\\pipe diameter finder\\input files\"\n",
    "completed_dir=r\"C:\\Projects\\2022\\Michaels_Code\\grundfos-express-tools\\pipe diameter finder\\output files\"\n",
    "\n",
    "\n",
    "# myDir = r\"C:\\Users\\104092\\OneDrive - Grundfos\\Documents\\git\\grundfos-express-tools\\pipe diameter finder\\input files\"\n",
    "file = \"Mech GRP foundation for VLS_CUE rev2.xlsx\"\n",
    "filePath = os.path.join(myDir, file)\n",
    "\n",
    "# Create working copy\n",
    "# completed_dir = r\"C:\\Users\\104092\\OneDrive - Grundfos\\Documents\\git\\grundfos-express-tools\\pipe diameter finder\\output files\"\n",
    "working_copy = os.path.join(completed_dir, add_filename_timestamp(file))\n",
    "shutil.copyfile(filePath, working_copy) # creates working copy to leave original file untouched"
   ]
  },
  {
   "cell_type": "code",
   "execution_count": null,
   "metadata": {},
   "outputs": [],
   "source": [
    "# Read in Excel sheet to a dataframe\n",
    "sheetname = \"GES_VLS_CUE\"\n",
    "data = pd.read_excel(working_copy, sheet_name=sheetname)\n",
    "data.dropna(axis=1, how='all', inplace=True) # Drops nan columns"
   ]
  },
  {
   "cell_type": "code",
   "execution_count": null,
   "metadata": {},
   "outputs": [],
   "source": [
    "branch_data = data[[\"Max Branch Flow (gpm)\",\"Max Branch Diameter (in.)\"]]\n",
    "branch_data['copy_index'] = branch_data.index\n",
    "\n",
    "header_data = data[[\"Max Header Flow (gpm)\",\"Max Header Diameter (in.)\"]]\n",
    "header_data['copy_index'] = header_data.index\n",
    "\n",
    "reference_df = data[[\"Flow (gpm)\", \"Pipe Diameter (in.)\"]]\n",
    "reference_df.set_index(\"Flow (gpm)\", inplace=True)\n",
    "reference_df.dropna(axis='index', how='any', inplace=True)"
   ]
  },
  {
   "cell_type": "code",
   "execution_count": null,
   "metadata": {},
   "outputs": [],
   "source": [
    "branch_output_df = pd.merge_asof(branch_data.sort_values('Max Branch Flow (gpm)'), reference_df, left_on=\"Max Branch Flow (gpm)\", right_on=\"Flow (gpm)\", direction='backward')\n",
    "branch_output_df.sort_values(by=['copy_index'], inplace=True)\n",
    "header_output_df = pd.merge_asof(header_data.sort_values('Max Header Flow (gpm)'), reference_df, left_on=\"Max Header Flow (gpm)\", right_on=\"Flow (gpm)\", direction='backward')\n",
    "header_output_df.sort_values(by=['copy_index'], inplace=True)"
   ]
  },
  {
   "cell_type": "code",
   "execution_count": null,
   "metadata": {},
   "outputs": [],
   "source": [
    "output_df = pd.merge(branch_output_df, header_output_df, on=\"copy_index\")\n",
    "output_df.drop(['copy_index'], axis=1, inplace=True)"
   ]
  },
  {
   "cell_type": "code",
   "execution_count": null,
   "metadata": {},
   "outputs": [],
   "source": [
    "# Write resulting dataframes to new sheet in PSD with changes.\n",
    "with pd.ExcelWriter(working_copy, engine='openpyxl', mode='a', if_sheet_exists='overlay') as writer:  \n",
    "    output_df.to_excel(writer, sheet_name=\"Run 2\", index=False)"
   ]
  }
 ],
 "metadata": {
  "interpreter": {
   "hash": "5d89935b22884bac8e846ef6a5fb14ff565b7e382ac92ebe1031401d4b8e3f29"
  },
  "kernelspec": {
   "display_name": "Python 3.10.2 64-bit",
   "language": "python",
   "name": "python3"
  },
  "language_info": {
   "codemirror_mode": {
    "name": "ipython",
    "version": 3
   },
   "file_extension": ".py",
   "mimetype": "text/x-python",
   "name": "python",
   "nbconvert_exporter": "python",
   "pygments_lexer": "ipython3",
   "version": "3.10.2"
  },
  "orig_nbformat": 4
 },
 "nbformat": 4,
 "nbformat_minor": 2
}
