{
 "cells": [
  {
   "cell_type": "markdown",
   "metadata": {},
   "source": [
    "#### Pseudo Code"
   ]
  },
  {
   "cell_type": "markdown",
   "metadata": {},
   "source": [
    "- [X] Parse \"Curve Header Data\" tab from curve PSD\n",
    "- [X] Create dictionary/dataframe?\n",
    "- [X] Create Root element and namespace ('SKBData')\n",
    "- [X] Add Child Element and attributes('CurveFamily')\n",
    "- [ ] Convert and insert header_dict as grandchildren of CurveFamily Element\n",
    "- [ ] Create (w/ modified values) and Insert 'pumpCurveCollection' element for each tab in NBS Curve PSD\n",
    "- [ ] Create and Insert 'Impeller' Element as children to 'pumpCurveCollection' element."
   ]
  },
  {
   "cell_type": "markdown",
   "metadata": {},
   "source": [
    "#### File Setup"
   ]
  },
  {
   "cell_type": "code",
   "execution_count": 20,
   "metadata": {},
   "outputs": [],
   "source": [
    "from lxml import etree as ET\n",
    "import os\n",
    "import pandas as pd\n",
    "import re"
   ]
  },
  {
   "cell_type": "code",
   "execution_count": 21,
   "metadata": {},
   "outputs": [],
   "source": [
    "# fileDir = r\"C:\\Users\\104092\\OneDrive - Grundfos\\Documents\\20-29 Areas\\22 grundfos-express-tools\\curve PSD to XML\"\n",
    "# filename = \"Curve_Alpha_1Aug2022.xml\"\n",
    "# filepath = os.path.join(fileDir, filename)\n",
    "\n",
    "psd_path = r\"C:\\Users\\104092\\OneDrive - Grundfos\\Documents\\10-19 Projects\\12 NBS Curve PSD Separation\\12.02 Output Files\"\n",
    "psd_file = r\"GXS Curve_Conexus_V2 - std models.xlsx\"\n",
    "psd_filepath = os.path.join(psd_path, psd_file)"
   ]
  },
  {
   "cell_type": "markdown",
   "metadata": {},
   "source": [
    "#### Create Root Element (and namespace)"
   ]
  },
  {
   "cell_type": "code",
   "execution_count": 22,
   "metadata": {},
   "outputs": [],
   "source": [
    "def add_namespace(elem_tag, xsi_namespace):\n",
    "    XHTML_NAMESPACE = xsi_namespace\n",
    "    XHTML = \"{%s}\" % XHTML_NAMESPACE\n",
    "    NSMAP = {'xsi' : XHTML_NAMESPACE} # the default namespace (no prefix)\n",
    "\n",
    "    return ET.Element(elem_tag, nsmap=NSMAP) # lxml only!"
   ]
  },
  {
   "cell_type": "code",
   "execution_count": 23,
   "metadata": {},
   "outputs": [],
   "source": [
    "root_ns = \"http://www.w3.org/2001/XMLSchema-instance\"\n",
    "root = add_namespace('SKBData', root_ns)"
   ]
  },
  {
   "cell_type": "markdown",
   "metadata": {},
   "source": [
    "#### Create CurveFamily Element as subelem to root"
   ]
  },
  {
   "cell_type": "code",
   "execution_count": 24,
   "metadata": {},
   "outputs": [],
   "source": [
    "curveFamily_elem = ET.SubElement(root, \"CurveFamily\", selectorVersion=\"8.0.0\", skbVersion=\"22.2.0.220418.623\")\n",
    "\n",
    "curve_family_name = \"NBS_Fixed_Trim\"\n",
    "\n",
    "header_dict = {\n",
    "        'name': curve_family_name}\n",
    "        # 'svDataType':'speed',\n",
    "        # 'interpDataType':'speed',\n",
    "        # 'compressorConditionsInputTypeSkb':'speedofSound',\n",
    "        # 'interpDataType':'speed',\n",
    "        # 'compressorConditionsInputTypeSkb':'speedOfSound',\n",
    "        # 'flowTypeSkb':'volumetricFlow',\n",
    "        # 'headTypeSkb':'head',\n",
    "        # 'headMarginForFixedDiameter':'value',\n",
    "        # 'submergenceMethod':'fixedValue',\n",
    "        # 'errorFitMax':'1.5',\n",
    "        # 'pumpType':'0',\n",
    "        # 'interpQty':'3',\n",
    "        # 'efficiencyPowerDataType':'pump'}\n",
    "\n",
    "# Add header data as sub-elements to CurveFamily Tag       \n",
    "for key, value in header_dict.items():\n",
    "    elem = ET.SubElement(curveFamily_elem, key)\n",
    "    elem.text = value"
   ]
  },
  {
   "cell_type": "markdown",
   "metadata": {},
   "source": [
    "#### Inserting UnitofMeasureSettings as subelement to CurveFamily"
   ]
  },
  {
   "cell_type": "code",
   "execution_count": 25,
   "metadata": {},
   "outputs": [],
   "source": [
    "# unitOfMeasureSettings\n",
    "with open('unitofmeasuresettings-boilerplate.txt','r') as file:\n",
    "\tunit_of_measure_settings = file.read()\n",
    "\t\n",
    "uom_element = ET.fromstring(unit_of_measure_settings)\n",
    "curveFamily_elem.append(uom_element)"
   ]
  },
  {
   "cell_type": "markdown",
   "metadata": {},
   "source": [
    "#### Currently In Progress. Add pumpCurveCollection for each curve tab"
   ]
  },
  {
   "cell_type": "code",
   "execution_count": 26,
   "metadata": {},
   "outputs": [],
   "source": [
    "def create_impeller_dict(curve_number):\n",
    "\n",
    "    # Extract diameter (in mm) from curve name\n",
    "    res = re.search(\"-(\\d+)_Std\", curve_number)\n",
    "    curve_trim_size_mm = int(res.group(1))\n",
    "    curve_trim_size_in = curve_trim_size_mm/25.4\n",
    "\n",
    "    impeller_dict = {'diameter': curve_trim_size_in}\n",
    "\n",
    "    return impeller_dict"
   ]
  },
  {
   "cell_type": "code",
   "execution_count": 27,
   "metadata": {},
   "outputs": [],
   "source": [
    "def create_pump_curve_dict(row) -> dict:\n",
    "    \"\"\"Returns dictionary of updated attributes to be converted to elements \"\"\"\n",
    "    pumpCurve_dict = {\n",
    "        'curveNumber': row['Curve number'],\n",
    "        'speedRef': row['Speed, data'],\n",
    "        'polesRef': row['Poles'],\n",
    "        'hzRef': row['Hz'],\n",
    "        'mcsfMinRef': row['MCSF @ min impeller diameter'],\n",
    "        'mcsfMaxRef': row['MCSF @ max impeller diameter'],\n",
    "        'eyeCount': row['Number of impeller eyes'],\n",
    "        'speedCurveNominal': row['Speed, nominal'],\n",
    "        'speedCurveMin': row['Speed, Min'],\n",
    "        'speedCurveMax': row['Speed, max'],\n",
    "        'diaImpInc': row['Diameter increment'],\n",
    "        'speedVariableCurveMin': row['Variable speed min limit'],\n",
    "        'optionalCurveType': 'Power',\n",
    "        'flowStartHeadEnabled': 'false',\n",
    "        'flowStartEtaEnabled': 'false',\n",
    "        'flowStartPowerEnabled': 'false'\n",
    "    }   \n",
    "\n",
    "    return pumpCurve_dict"
   ]
  },
  {
   "cell_type": "code",
   "execution_count": 28,
   "metadata": {},
   "outputs": [],
   "source": [
    "def add_elem_from_dict(parent_elem, elem_dict):\n",
    "    \"\"\"Takes elements inside elem_dict and adds as elements to parent_elem\"\"\"\n",
    "    for key, value in elem_dict.items():\n",
    "        elem = ET.SubElement(parent_elem, key)\n",
    "        elem.text = str(value)"
   ]
  },
  {
   "cell_type": "code",
   "execution_count": 29,
   "metadata": {},
   "outputs": [],
   "source": [
    "def metric_to_us(input_value, parameter_type:str):\n",
    "    if parameter_type == 'flow':\n",
    "        return input_value * 4.40286764029913\n",
    "    elif parameter_type == 'distance':\n",
    "        return input_value * 3.28083989501312\n",
    "    elif parameter_type == 'power':\n",
    "        return input_value * 1.3410218586563\n",
    "    else:\n",
    "        print(\"non valid parameter type entered\")"
   ]
  },
  {
   "cell_type": "code",
   "execution_count": 30,
   "metadata": {},
   "outputs": [],
   "source": [
    "def add_curve_data_points(parent_elem, curve_number, curve_type):\n",
    "    \n",
    "    curve_data_df = pd.read_excel(psd_filepath,sheet_name=curve_number, header=7, skiprows=[8], usecols=\"D,E,L,S\", nrows=50)\n",
    "    curve_data_df = curve_data_df.dropna()\n",
    "    \n",
    "    for index, row in curve_data_df.iterrows():\n",
    "        datapoint_elem = ET.SubElement(parent_elem, \"DataPoint\", disabled=\"false\")\n",
    "        \n",
    "        if curve_type == 'Power':\n",
    "            datapoint_dict = {\n",
    "                # 'x': metric_to_us(row['Flow'], \"flow\"),\n",
    "                # 'y': metric_to_us(row[curve_type], 'power'),\n",
    "                'x': row['Flow'],\n",
    "                'y': row[curve_type],\n",
    "                'isOnCurve':'false',\n",
    "                'division':'false',\n",
    "                'slopeEnabled':'false'\n",
    "            }\n",
    "\n",
    "        elif (curve_type == 'Head') or (curve_type == 'NPSH'):\n",
    "            datapoint_dict = {\n",
    "                # 'x': metric_to_us(row['Flow'], \"flow\"),\n",
    "                # 'y': metric_to_us(row[curve_type], 'distance'),\n",
    "                'x': row['Flow'],\n",
    "                'y': row[curve_type],\n",
    "                'isOnCurve':'false',\n",
    "                'division':'false',\n",
    "                'slopeEnabled':'false'\n",
    "            }\n",
    "\n",
    "        else:\n",
    "            print(f'curve_type not allowed: {curve_type}')\n",
    "            \n",
    "        add_elem_from_dict(datapoint_elem, datapoint_dict)"
   ]
  },
  {
   "cell_type": "code",
   "execution_count": 31,
   "metadata": {},
   "outputs": [],
   "source": [
    "def add_curve(parent_elem, curve_type:str, curve_number):\n",
    "    curve_elem = ET.SubElement(parent_elem, 'Curve', type=curve_type)\n",
    "\n",
    "    # Add Curve Data Points to Curve Element\n",
    "    add_curve_data_points(curve_elem, curve_number, curve_type)"
   ]
  },
  {
   "cell_type": "code",
   "execution_count": 32,
   "metadata": {},
   "outputs": [],
   "source": [
    "curve_header_data = pd.read_excel(psd_filepath,sheet_name=\"Curve Header Data\", header=8, skiprows=[9])\n",
    "\n",
    "# Need to set appropriate values before adding to XML tree. Will need to iterate through curve_header_data to update values.\n",
    "for index, row in curve_header_data.iterrows():\n",
    "    \n",
    "    # <pumpCurveCollection xsi:type=\"CentrifugalPumpCurveCollection\"> This is the parent of each pump curve\"\n",
    "    qname = ET.QName(root_ns,\"type\")\n",
    "    pumpCurveCollection_elem = ET.SubElement(curveFamily_elem, 'pumpCurveCollection', {qname: \"CentrifugalPumpCurveCollection\"})\n",
    "\n",
    "    # Creates pump curve elements\n",
    "    curve_dict = create_pump_curve_dict(row)\n",
    "    add_elem_from_dict(pumpCurveCollection_elem, curve_dict)\n",
    "\n",
    "    # Add Impeller Elements\n",
    "    impeller_elem = ET.SubElement(pumpCurveCollection_elem, 'Impeller')\n",
    "    impeller_dict = create_impeller_dict(row['Curve number'])\n",
    "    add_elem_from_dict(impeller_elem, impeller_dict)\n",
    "\n",
    "    # Add Curve Element\n",
    "    add_curve(impeller_elem, \"Head\", row['Curve number'])\n",
    "    add_curve(impeller_elem, \"Power\", row['Curve number'])\n",
    "    add_curve(impeller_elem, \"NPSH\", row['Curve number'])    "
   ]
  },
  {
   "cell_type": "code",
   "execution_count": null,
   "metadata": {},
   "outputs": [],
   "source": [
    "# print(ET.tostring(root, pretty_print=True).decode(\"utf-8\"))"
   ]
  },
  {
   "cell_type": "code",
   "execution_count": null,
   "metadata": {},
   "outputs": [],
   "source": [
    "# text_file = open(\"nbs_fixed_trim_all_curves.xml\", \"wt\")\n",
    "et = ET.ElementTree(root)\n",
    "et.write('nbs_fixed_trim_all_curves.xml', pretty_print=True)\n",
    "# n = text_file.write(root_as_str)\n",
    "# text_file.close()"
   ]
  }
 ],
 "metadata": {
  "interpreter": {
   "hash": "5d89935b22884bac8e846ef6a5fb14ff565b7e382ac92ebe1031401d4b8e3f29"
  },
  "kernelspec": {
   "display_name": "Python 3.10.2 64-bit",
   "language": "python",
   "name": "python3"
  },
  "language_info": {
   "codemirror_mode": {
    "name": "ipython",
    "version": 3
   },
   "file_extension": ".py",
   "mimetype": "text/x-python",
   "name": "python",
   "nbconvert_exporter": "python",
   "pygments_lexer": "ipython3",
   "version": "3.10.2"
  },
  "orig_nbformat": 4
 },
 "nbformat": 4,
 "nbformat_minor": 2
}
