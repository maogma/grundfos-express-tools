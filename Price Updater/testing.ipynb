{
 "cells": [
  {
   "cell_type": "markdown",
   "metadata": {},
   "source": [
    "TO DO:\n",
    "- Create dict of tabs to reference in excel PSDs"
   ]
  },
  {
   "cell_type": "markdown",
   "metadata": {},
   "source": [
    "#### Pseudo Code\n",
    "\n",
    "- Convert original pricing PSD to dataframe\n",
    "- Create dataframe or dictionary containing partnumber, SAP description, and new pricing data\n",
    "- Iterate through and update pricing in dataframe referencing pricing dictionary/dataframe\n",
    "\n",
    "\n",
    "\n",
    "- Add 2 columns: 1 to contain original pricing, and 1 to calculate percent difference?\n",
    "- Write new tabs to excel\n",
    "\"\"\""
   ]
  },
  {
   "cell_type": "markdown",
   "metadata": {},
   "source": [
    "#### Imports"
   ]
  },
  {
   "cell_type": "code",
   "execution_count": 1,
   "metadata": {},
   "outputs": [],
   "source": [
    "import pandas as pd\n",
    "import os\n",
    "import openpyxl"
   ]
  },
  {
   "cell_type": "markdown",
   "metadata": {},
   "source": [
    "#### Convert original pricing PSD to dataframe"
   ]
  },
  {
   "cell_type": "code",
   "execution_count": 2,
   "metadata": {},
   "outputs": [],
   "source": [
    "# Folder where PSDs are located\n",
    "fileDir = r\"C:\\Users\\104092\\OneDrive - Grundfos\\Documents\\20-29 Areas\\22 grundfos-express-tools\\Price Updater\\Input PSDs\"\n",
    "\n",
    "file_to_change = r\"CR_StdPumps.xlsx\"\n",
    "filePath = os.path.join(fileDir, file_to_change)\n",
    "\n",
    "# Create dataframe from PSD\n",
    "# psd_data = pd.read_excel(filePath, sheet_name=1, header=1)\n",
    "psd_data = pd.read_excel(filePath, sheet_name=1, header=None, na_filter=False)\n",
    "\n",
    "# This removes the header data from the dataframe to avoid duplicating during excel write operation\n",
    "# psd_data = psd_data.iloc[3::,:] "
   ]
  },
  {
   "cell_type": "code",
   "execution_count": 3,
   "metadata": {},
   "outputs": [],
   "source": [
    "new_header = psd_data.iloc[1] #grab the 2nd row for the header\n",
    "psd_data.columns = new_header #set the header row as the df header"
   ]
  },
  {
   "cell_type": "markdown",
   "metadata": {},
   "source": [
    "#### Create dataframe or dictionary containing partnumber, SAP description, and new pricing data"
   ]
  },
  {
   "cell_type": "code",
   "execution_count": 4,
   "metadata": {},
   "outputs": [],
   "source": [
    "newDir = r\"C:\\Users\\104092\\OneDrive - Grundfos\\Documents\\20-29 Areas\\22 grundfos-express-tools\\Price Updater\"\n",
    "newPrices = r\"2022_Big_Book.xlsx\"\n",
    "pathNewPrices = os.path.join(newDir, newPrices)\n",
    "\n",
    "# Create dataframe of new prices\n",
    "cols = ['Part Number', '2022 List Prices']\n",
    "newPrice_data = pd.read_excel(pathNewPrices, sheet_name=0, usecols=cols)\n",
    "\n",
    "# Renaming part number column for use in pandas merge\n",
    "newPrice_data.rename(columns = {'Part Number':'Big Book Part Number'}, inplace=True)"
   ]
  },
  {
   "cell_type": "markdown",
   "metadata": {},
   "source": [
    "#### Reorder df column function"
   ]
  },
  {
   "cell_type": "code",
   "execution_count": 5,
   "metadata": {},
   "outputs": [],
   "source": [
    "def reorder_columns(dataframe, col_name, position):\n",
    "    \"\"\"Reorder a dataframe's column.\n",
    "    Args:\n",
    "        dataframe (pd.DataFrame): dataframe to use\n",
    "        col_name (string): column name to move\n",
    "        position (0-indexed position): where to relocate column to\n",
    "    Returns:\n",
    "        pd.DataFrame: re-assigned dataframe\n",
    "    \"\"\"\n",
    "    temp_col = dataframe[col_name]\n",
    "    dataframe = dataframe.drop(columns=[col_name])\n",
    "    dataframe.insert(loc=position, column=col_name, value=temp_col)\n",
    "    return dataframe"
   ]
  },
  {
   "cell_type": "markdown",
   "metadata": {},
   "source": [
    "#### Iterate through and update pricing in dataframe referencing pricing dictionary/dataframe"
   ]
  },
  {
   "cell_type": "code",
   "execution_count": 6,
   "metadata": {},
   "outputs": [],
   "source": [
    "# Essentially a VLOOKUP in python\n",
    "df = psd_data.merge(newPrice_data, how='left', left_on='PartNumber', right_on='Big Book Part Number')"
   ]
  },
  {
   "cell_type": "code",
   "execution_count": 7,
   "metadata": {},
   "outputs": [],
   "source": [
    "# Find Column Index of \"ListPrice\" within excel file\n",
    "insert_loc_col = df.columns.get_loc(\"ListPrice\") + 1\n",
    "\n",
    "# Re ordering columns for QA review. Insert New Columns (PN, List Price) next to \"ListPrice\" column for comparison\n",
    "# df = reorder_columns(dataframe=df3, col_name='Big Book Part Number', position=last_col)\n",
    "df = reorder_columns(dataframe=df, col_name='2022 List Prices', position=insert_loc_col)\n",
    "df = reorder_columns(dataframe=df, col_name='Big Book Part Number', position=insert_loc_col)"
   ]
  },
  {
   "cell_type": "code",
   "execution_count": 65,
   "metadata": {},
   "outputs": [],
   "source": [
    "# new_header = df.iloc[1] # grab the 2nd row for the header\n",
    "# psd_data.columns = new_header # set the header row as the df header"
   ]
  },
  {
   "cell_type": "markdown",
   "metadata": {},
   "source": [
    "#### Create Working Copy of pricing PSD; leaving original untouched"
   ]
  },
  {
   "cell_type": "code",
   "execution_count": null,
   "metadata": {},
   "outputs": [],
   "source": [
    "import shutil\n",
    "\n",
    "filename, file_ext = file_to_change.split(os.extsep)\n",
    "\n",
    "outputDir = r\"C:\\Users\\104092\\OneDrive - Grundfos\\Documents\\20-29 Areas\\22 grundfos-express-tools\\Price Updater\\Output PSDs\"\n",
    "outputFilename = filename + \" - Ready for Review.\" + file_ext\n",
    "outputPath = os.path.join(outputDir, outputFilename)\n",
    "\n",
    "shutil.copyfile(filePath, outputPath) # Create copy to leave original untouched"
   ]
  },
  {
   "cell_type": "markdown",
   "metadata": {},
   "source": [
    "#### Write to new tab in excel sheet. Do we need to add these new prices for history tracking?"
   ]
  },
  {
   "cell_type": "code",
   "execution_count": 67,
   "metadata": {},
   "outputs": [],
   "source": [
    "# Write dataframe \n",
    "with pd.ExcelWriter(outputPath, mode=\"a\", engine=\"openpyxl\", if_sheet_exists='replace') as writer:\n",
    "    # df3.to_excel(writer, sheet_name=\"CP BpaQ\", header=None, startrow=writer.sheets[\"Sheet1\"].max_row, index=False)\n",
    "    df.to_excel(writer, sheet_name=\"CR BpaQ\", header=None, index=False)"
   ]
  },
  {
   "cell_type": "markdown",
   "metadata": {},
   "source": [
    "#### Adds column headers to new pricing columns for historial archive purposes. Do we need to do this?"
   ]
  },
  {
   "cell_type": "code",
   "execution_count": 14,
   "metadata": {},
   "outputs": [],
   "source": [
    "from openpyxl import load_workbook\n",
    "wb = load_workbook(outputPath, data_only=True)\n",
    "ws = wb.worksheets[1]\n",
    "\n",
    "big_book_cols = newPrice_data.columns\n",
    "last_col = len(df.columns)\n",
    "\n",
    "from openpyxl.utils.cell import get_column_letter\n",
    "\n",
    "pn_cell = '{}{}'.format(get_column_letter(last_col - 1), 5)\n",
    "pricing_cell = '{}{}'.format(get_column_letter(last_col), 5)"
   ]
  },
  {
   "cell_type": "code",
   "execution_count": 15,
   "metadata": {},
   "outputs": [],
   "source": [
    "ws[pn_cell].value = big_book_cols[0]\n",
    "ws[pricing_cell].value = big_book_cols[1]\n",
    "wb.save(outputPath)"
   ]
  }
 ],
 "metadata": {
  "interpreter": {
   "hash": "5d89935b22884bac8e846ef6a5fb14ff565b7e382ac92ebe1031401d4b8e3f29"
  },
  "kernelspec": {
   "display_name": "Python 3.10.2 64-bit",
   "language": "python",
   "name": "python3"
  },
  "language_info": {
   "codemirror_mode": {
    "name": "ipython",
    "version": 3
   },
   "file_extension": ".py",
   "mimetype": "text/x-python",
   "name": "python",
   "nbconvert_exporter": "python",
   "pygments_lexer": "ipython3",
   "version": "3.10.2"
  },
  "orig_nbformat": 4
 },
 "nbformat": 4,
 "nbformat_minor": 2
}
