{
 "cells": [
  {
   "cell_type": "code",
   "execution_count": null,
   "metadata": {},
   "outputs": [],
   "source": [
    "\"\"\"\n",
    "TO-DO:\n",
    "\"\"\""
   ]
  },
  {
   "cell_type": "code",
   "execution_count": null,
   "metadata": {},
   "outputs": [],
   "source": [
    "# # Need to iterate through each file \n",
    "# for root, subdirectories, files in os.walk(currentPSD_dir):\n",
    "#     for file in files:\n",
    "#         # fileName, fileExtension = os.path.splitext(file)\n",
    "#         fileName = os.path.join(currentPSD_dir, file)\n",
    "#         print(\"Modifying file: {}\".format(file))\n",
    "        \n",
    "#         # Receives pricing tab from Pricing PSD and returns openpyxl object to modify\n",
    "#         theFile = openpyxl.load_workbook(fileName)\n",
    "#         # allSheetNames = theFile.sheetnames\n",
    "#         # priceSheet = theFile[allSheetNames[1]]\n",
    "#         for sheet in theFile.worksheets:\n",
    "#             if sheet.title in pricingTabs:\n",
    "#                 priceSheet = sheet\n",
    "                \n",
    "#                 lastRow = findLastRow(priceSheet)    \n",
    "                 \n",
    "#                 # For each file, find which column contains PartNumber and ListPrice\n",
    "#                 partNumCol = find_specific_cell(\"PartNumber\", \"col\") \n",
    "#                 listPriceColumn = find_specific_cell(\"Price\", \"col\")  \n",
    "                                                \n",
    "#                 # Iterates through each cell in spreadsheet to find matches from Big Book\n",
    "#                 for row in range(1, lastRow):\n",
    "#                     partNumCell = \"{}{}\".format(partNumCol, row)\n",
    "#                     listPriceCell = \"{}{}\".format(listPriceColumn, row)\n",
    "#                     for index, entry in updatedPricesPN.iterrows():\n",
    "#                         # if type(entry['Part Number']) != int and type(entry['Part Number']) != str:\n",
    "#                         #     print(\"pn: {}, type: {}\".format(entry['Part Number'], type(entry['Part Number'])))\n",
    "#                         if str(priceSheet[partNumCell].value) == entry['Part Number']:\n",
    "#                             # print(\"part number match! {} == {}\".format(priceSheet[partNumCell].value, entry['Part Number']))\n",
    "#                             print(\"Changing part number {} from {} to {}\".format(priceSheet[partNumCell].value, priceSheet[listPriceCell].value, entry['2022 List Prices']))\n",
    "#                             priceSheet[listPriceCell] = entry['2022 List Prices']\n",
    "                    \n",
    "#                 theFile.save(fileName)      \n",
    "    "
   ]
  },
  {
   "cell_type": "markdown",
   "metadata": {},
   "source": [
    "### New Code"
   ]
  },
  {
   "cell_type": "code",
   "execution_count": null,
   "metadata": {},
   "outputs": [],
   "source": [
    "# Pseudo Code\n",
    "\"\"\"\n",
    "- Convert original pricing PSD to dataframe\n",
    "- Create dataframe or dictionary containing partnumber, SAP description, and new pricing data\n",
    "- Iterate through and update pricing in dataframe referencing pricing dictionary/dataframe\n",
    "\n",
    "\n",
    "\n",
    "- Add 2 columns: 1 to contain original pricing, and 1 to calculate percent difference?\n",
    "- Write new tabs to excel\n",
    "\"\"\""
   ]
  },
  {
   "cell_type": "markdown",
   "metadata": {},
   "source": [
    "#### Imports"
   ]
  },
  {
   "cell_type": "code",
   "execution_count": 75,
   "metadata": {},
   "outputs": [],
   "source": [
    "import pandas as pd\n",
    "import os\n",
    "import openpyxl"
   ]
  },
  {
   "cell_type": "markdown",
   "metadata": {},
   "source": [
    "#### Convert original pricing PSD to dataframe"
   ]
  },
  {
   "cell_type": "code",
   "execution_count": 87,
   "metadata": {},
   "outputs": [],
   "source": [
    "# Folder where PSDs are located\n",
    "fileDir = r\"C:\\Users\\104092\\OneDrive - Grundfos\\Documents\\20-29 Areas\\22 grundfos-express-tools\\Price Updater\\Input PSDs\"\n",
    "\n",
    "file_to_change = r\"CR_StdPumps.xlsx\"\n",
    "filePath = os.path.join(fileDir, file_to_change)\n",
    "\n",
    "# Create dataframe from PSD\n",
    "psd_data = pd.read_excel(filePath, sheet_name=1, header=1)\n",
    "\n",
    "# This removes the header data from the dataframe to avoid duplicating during excel write operation\n",
    "psd_data = psd_data.iloc[3::,:] "
   ]
  },
  {
   "cell_type": "markdown",
   "metadata": {},
   "source": [
    "#### Create dataframe or dictionary containing partnumber, SAP description, and new pricing data"
   ]
  },
  {
   "cell_type": "code",
   "execution_count": 88,
   "metadata": {},
   "outputs": [],
   "source": [
    "newDir = r\"C:\\Users\\104092\\OneDrive - Grundfos\\Documents\\20-29 Areas\\22 grundfos-express-tools\\Price Updater\"\n",
    "newPrices = r\"2022_Big_Book.xlsx\"\n",
    "pathNewPrices = os.path.join(newDir, newPrices)\n",
    "\n",
    "# Create dataframe of new prices\n",
    "cols = ['Part Number', '2022 List Prices']\n",
    "newPrice_data = pd.read_excel(pathNewPrices, sheet_name=0, usecols=cols)\n",
    "\n",
    "# Renaming part number column for use in pandas merge\n",
    "newPrice_data.rename(columns = {'Part Number':'Big Book Part Number'}, inplace=True)"
   ]
  },
  {
   "cell_type": "markdown",
   "metadata": {},
   "source": [
    "### Reorder df column function"
   ]
  },
  {
   "cell_type": "code",
   "execution_count": 47,
   "metadata": {},
   "outputs": [],
   "source": [
    "def reorder_columns(dataframe, col_name, position):\n",
    "    \"\"\"Reorder a dataframe's column.\n",
    "    Args:\n",
    "        dataframe (pd.DataFrame): dataframe to use\n",
    "        col_name (string): column name to move\n",
    "        position (0-indexed position): where to relocate column to\n",
    "    Returns:\n",
    "        pd.DataFrame: re-assigned dataframe\n",
    "    \"\"\"\n",
    "    temp_col = dataframe[col_name]\n",
    "    dataframe = dataframe.drop(columns=[col_name])\n",
    "    dataframe.insert(loc=position, column=col_name, value=temp_col)\n",
    "    return dataframe"
   ]
  },
  {
   "cell_type": "markdown",
   "metadata": {},
   "source": [
    "#### Iterate through and update pricing in dataframe referencing pricing dictionary/dataframe"
   ]
  },
  {
   "cell_type": "code",
   "execution_count": 89,
   "metadata": {},
   "outputs": [],
   "source": [
    "# Essentially a VLOOKUP in python\n",
    "df = psd_data.merge(newPrice_data, how='left', left_on='PartNumber', right_on='Big Book Part Number')\n",
    "\n",
    "# Re ordering columns for QA review\n",
    "# last_col = len(df3.columns)\n",
    "# df = reorder_columns(dataframe=df3, col_name='Big Book Part Number', position=last_col)\n",
    "# df = reorder_columns(dataframe=df, col_name='2022 List Prices', position=last_col)"
   ]
  },
  {
   "cell_type": "markdown",
   "metadata": {},
   "source": [
    "### Create Working Copy of pricing PSD; leaving original untouched"
   ]
  },
  {
   "cell_type": "code",
   "execution_count": 90,
   "metadata": {},
   "outputs": [
    {
     "data": {
      "text/plain": [
       "'C:\\\\Users\\\\104092\\\\OneDrive - Grundfos\\\\Documents\\\\20-29 Areas\\\\22 grundfos-express-tools\\\\Price Updater\\\\Output PSDs\\\\CR_StdPumps - Ready for Review.xlsx'"
      ]
     },
     "execution_count": 90,
     "metadata": {},
     "output_type": "execute_result"
    }
   ],
   "source": [
    "from openpyxl import load_workbook\n",
    "import shutil\n",
    "\n",
    "filename, file_ext = file_to_change.split(os.extsep)\n",
    "\n",
    "outputDir = r\"C:\\Users\\104092\\OneDrive - Grundfos\\Documents\\20-29 Areas\\22 grundfos-express-tools\\Price Updater\\Output PSDs\"\n",
    "outputFilename = filename + \" - Ready for Review.\" + file_ext\n",
    "outputPath = os.path.join(outputDir, outputFilename)\n",
    "\n",
    "shutil.copyfile(filePath, outputPath) # Create copy to leave original untouched"
   ]
  },
  {
   "cell_type": "markdown",
   "metadata": {},
   "source": [
    "### Write to new tab in excel sheet"
   ]
  },
  {
   "cell_type": "code",
   "execution_count": 91,
   "metadata": {},
   "outputs": [],
   "source": [
    "# Write dataframe \n",
    "with pd.ExcelWriter(outputPath, mode=\"a\", engine=\"openpyxl\",if_sheet_exists=\"overlay\") as writer:\n",
    "    # df3.to_excel(writer, sheet_name=\"CP BpaQ\", header=None, startrow=writer.sheets[\"Sheet1\"].max_row, index=False)\n",
    "    df.to_excel(writer, sheet_name=\"CR BpaQ\", header=None, startrow=5, index=False)"
   ]
  }
 ],
 "metadata": {
  "interpreter": {
   "hash": "5d89935b22884bac8e846ef6a5fb14ff565b7e382ac92ebe1031401d4b8e3f29"
  },
  "kernelspec": {
   "display_name": "Python 3.10.2 64-bit",
   "language": "python",
   "name": "python3"
  },
  "language_info": {
   "codemirror_mode": {
    "name": "ipython",
    "version": 3
   },
   "file_extension": ".py",
   "mimetype": "text/x-python",
   "name": "python",
   "nbconvert_exporter": "python",
   "pygments_lexer": "ipython3",
   "version": "3.10.2"
  },
  "orig_nbformat": 4
 },
 "nbformat": 4,
 "nbformat_minor": 2
}
