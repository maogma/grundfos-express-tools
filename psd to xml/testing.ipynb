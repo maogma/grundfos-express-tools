{
 "cells": [
  {
   "cell_type": "code",
   "execution_count": 2,
   "metadata": {},
   "outputs": [],
   "source": [
    "import pandas as pd\n",
    "import xml.etree.ElementTree as ET\n",
    "from xml.dom import minidom\n",
    "import os"
   ]
  },
  {
   "cell_type": "code",
   "execution_count": 3,
   "metadata": {},
   "outputs": [],
   "source": [
    "# Read in PSD to dataframe(s)\n",
    "myDir = r\"C:\\Users\\104092\\OneDrive - Grundfos\\Documents\\git\\grundfos-express-tools\\psd to xml\\PSD files for testing\"\n",
    "file = \"Lbom-ES.xlsx\"\n",
    "psd_file = os.path.join(myDir, file)\n",
    "tabName = \"Impeller\""
   ]
  },
  {
   "cell_type": "code",
   "execution_count": 4,
   "metadata": {},
   "outputs": [],
   "source": [
    "# Creates dataframe from excel tab of interest\n",
    "raw_data = pd.read_excel(psd_file, sheet_name=tabName, header=1, index_col=False)\n",
    "unnamed_cols = raw_data.columns.str.match(\"Unnamed\")\n",
    "psd_data = raw_data.drop(raw_data[raw_data.columns[unnamed_cols]], axis=1) # Drops columns with unnamed cols. Need to ask if these columns should be preserved."
   ]
  },
  {
   "cell_type": "code",
   "execution_count": 5,
   "metadata": {},
   "outputs": [],
   "source": [
    "def get_row_index(search_query:str, df):\n",
    "    \"\"\"Returns row integer number of search_query from 1st column\"\"\"\n",
    "    row_num = df.index[df.iloc[:,0]==search_query].tolist()[0]\n",
    "    return row_num\n",
    "    \n",
    "# Finds [START], [END] row # to separate header from data rows\n",
    "start_row = get_row_index(\"[START]\", psd_data)\n",
    "end_row = get_row_index(\"[END]\", psd_data)"
   ]
  },
  {
   "cell_type": "code",
   "execution_count": 6,
   "metadata": {},
   "outputs": [],
   "source": [
    "def prettify(elem):\n",
    "    \"\"\"Return a pretty-printed XML string for the Element.\n",
    "    \"\"\"\n",
    "    rough_string = ET.tostring(elem, 'UTF-8')\n",
    "    reparsed = minidom.parseString(rough_string)\n",
    "    print(reparsed.toprettyxml(indent=\"  \"))"
   ]
  },
  {
   "cell_type": "code",
   "execution_count": 7,
   "metadata": {},
   "outputs": [
    {
     "name": "stdout",
     "output_type": "stream",
     "text": [
      "{'ID': 'text', 'Model': 'text', 'CodeX': 'text', 'ImpellerMaterial': 'text', 'PacoMatlCode': 'text', 'CapScrewandWasher': 'text', 'ImpellerKey': 'text', 'Coating': 'text', 'BOM': 'text', 'PriceID': 'pointer', 'LeadtimeID': 'pointer'}\n"
     ]
    }
   ],
   "source": [
    "# Create dict of column headers with data types for each column. Skips first column from PSD\n",
    "header_dict = {i: psd_data.at[1, i] for i in psd_data.columns if psd_data.columns.get_loc(i) != 0}\n",
    "\n",
    "# PSD field says \"pointer-merge\", but this turns into \"text\" during XML conversion process anyway.\n",
    "header_dict.update({'ID': \"text\"}) \n",
    "print(header_dict)"
   ]
  },
  {
   "cell_type": "code",
   "execution_count": 11,
   "metadata": {},
   "outputs": [],
   "source": [
    "# Iterate through dataframe in correct order to produce XML instance\n",
    "root = ET.Element('top')  # Root element\n",
    "\n",
    "# Sets Class for each row/entry from PSD (Should be the same for all entries)\n",
    "class_ref_name = psd_data.columns[0] # This uses the PSD column header for the class name.\n",
    "class_attr = {\"name\": class_ref_name}\n",
    "\n",
    "# Sets chartype, which is always a doublebyte\n",
    "chartype_attr = {\"value\": \"doublebyte\"}\n",
    "\n",
    "for index, col in psd_data[start_row:end_row].iterrows():\n",
    "    # Inserts Instance for each row in PSD\n",
    "    inst_attr = {\"name\": col[\"ID\"]}\n",
    "    instance = ET.SubElement(root, \"instance\", attrib=inst_attr)\n",
    "\n",
    "    # Inserts Class for each row in PSD\n",
    "    class_entry = ET.SubElement(instance, \"class\")\n",
    "    class_sub_entry = ET.SubElement(class_entry, \"ref\", attrib=class_attr)\n",
    "\n",
    "    # Inserts chartype attribute\n",
    "    chartype = ET.SubElement(instance, \"chartype\", chartype_attr)\n",
    "\n",
    "    # Loop through header dictionary for attributes\n",
    "    for k, v in header_dict.items():\n",
    "        # Need to insert if statement where pointers receive sub-child\n",
    "        if v == \"text\":\n",
    "            attr_dict = {\"name\": k, \"type\": v, \"value\": psd_data.at[index, k].__str__()}\n",
    "            attr_entry = ET.SubElement(instance, \"attribute\", attr_dict)\n",
    "        elif \"pointer\" in v: # Whats the difference between pointer and pointer-merge? May have to change this. \n",
    "            attr_dict = {\"name\": k, \"type\": v}\n",
    "            attr_entry = ET.SubElement(instance, \"attribute\", attr_dict)\n",
    "            pointer_dict = {\"value\": psd_data.at[index, k].__str__()}\n",
    "            pointer_sub_entry = ET.SubElement(attr_entry, \"ref\", attrib=pointer_dict)"
   ]
  },
  {
   "cell_type": "code",
   "execution_count": null,
   "metadata": {},
   "outputs": [],
   "source": [
    "# print(ET.tostring(root, encoding='utf8').decode('utf8'))"
   ]
  },
  {
   "cell_type": "code",
   "execution_count": null,
   "metadata": {},
   "outputs": [],
   "source": [
    "prettify(root)"
   ]
  }
 ],
 "metadata": {
  "interpreter": {
   "hash": "48fa2eccdebaf1ff24b5e55dfacc47ca863d8022685fa20f5e1e5031fac11810"
  },
  "kernelspec": {
   "display_name": "Python 3.8.3 64-bit (system)",
   "language": "python",
   "name": "python3"
  },
  "language_info": {
   "codemirror_mode": {
    "name": "ipython",
    "version": 3
   },
   "file_extension": ".py",
   "mimetype": "text/x-python",
   "name": "python",
   "nbconvert_exporter": "python",
   "pygments_lexer": "ipython3",
   "version": "3.8.3"
  },
  "orig_nbformat": 4
 },
 "nbformat": 4,
 "nbformat_minor": 2
}
