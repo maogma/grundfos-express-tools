{
 "cells": [
  {
   "cell_type": "code",
   "execution_count": 56,
   "metadata": {},
   "outputs": [],
   "source": [
    "import pandas as pd\n",
    "import xml.etree.ElementTree as ET\n",
    "from xml.dom import minidom\n",
    "import os"
   ]
  },
  {
   "cell_type": "code",
   "execution_count": 57,
   "metadata": {},
   "outputs": [],
   "source": [
    "# Read in PSD to dataframe(s)\n",
    "myDir = r\"C:\\Users\\104092\\OneDrive - Grundfos\\Documents\\git\\grundfos-express-tools\\psd to xml\\PSD files for testing\"\n",
    "file = \"Lbom-ES.xlsx\"\n",
    "psd_file = os.path.join(myDir, file)\n",
    "# psd_file = \"VLC-VLSCbom.xlsx\"\n",
    "tabName = \"Impeller\""
   ]
  },
  {
   "cell_type": "code",
   "execution_count": 58,
   "metadata": {},
   "outputs": [],
   "source": [
    "# Creates dataframe from excel tab of interest\n",
    "raw_data = pd.read_excel(psd_file, sheet_name=tabName, header=1, index_col=False)\n",
    "unnamed_cols = raw_data.columns.str.match(\"Unnamed\")\n",
    "psd_data = raw_data.drop(raw_data[raw_data.columns[unnamed_cols]], axis=1) # Drops columns with unnamed cols. Need to ask if these columns should be preserved."
   ]
  },
  {
   "cell_type": "code",
   "execution_count": 59,
   "metadata": {},
   "outputs": [],
   "source": [
    "def get_row_index(search_query:str, df):\n",
    "    \"\"\"Returns row integer number of search_query from 1st column\"\"\"\n",
    "    row_num = df.index[df.iloc[:,0]==search_query].tolist()[0]\n",
    "    return row_num\n",
    "    \n",
    "# Finds [START], [END] row # to separate header from data rows\n",
    "start_row = get_row_index(\"[START]\", psd_data)\n",
    "end_row = get_row_index(\"[END]\", psd_data)"
   ]
  },
  {
   "cell_type": "code",
   "execution_count": 60,
   "metadata": {},
   "outputs": [],
   "source": [
    "def prettify(elem):\n",
    "    \"\"\"Return a pretty-printed XML string for the Element.\n",
    "    \"\"\"\n",
    "    rough_string = ET.tostring(elem, 'UTF-8')\n",
    "    reparsed = minidom.parseString(rough_string)\n",
    "    print(reparsed.toprettyxml(indent=\"  \"))"
   ]
  },
  {
   "cell_type": "code",
   "execution_count": 61,
   "metadata": {},
   "outputs": [
    {
     "name": "stdout",
     "output_type": "stream",
     "text": [
      "{'ID': 'text', 'Model': 'text', 'CodeX': 'text', 'ImpellerMaterial': 'text', 'PacoMatlCode': 'text', 'CapScrewandWasher': 'text', 'ImpellerKey': 'text', 'Coating': 'text', 'BOM': 'text', 'PriceID': 'pointer', 'LeadtimeID': 'pointer'}\n"
     ]
    }
   ],
   "source": [
    "# Create dict of column headers with data types for each column. Skips first column from PSD\n",
    "header_dict = {i: psd_data.at[1, i] for i in psd_data.columns if psd_data.columns.get_loc(i) != 0}\n",
    "\n",
    "# PSD field says \"pointer-merge\", but this turns into \"text\" during XML conversion process anyway.\n",
    "header_dict.update({'ID': \"text\"}) \n",
    "print(header_dict)"
   ]
  },
  {
   "cell_type": "code",
   "execution_count": 68,
   "metadata": {},
   "outputs": [],
   "source": [
    "# Class to insert Instance w/ class, chartype\n",
    "class Instance:\n",
    "    def __init__(self, name, parent_element):\n",
    "        self.name = name\n",
    "        self.parent = parent_element\n",
    "        \n",
    "        self.attr = {\"name\": name}\n",
    "        self.chartype_attr = {\"value\": \"doublebyte\"} # Sets chartype, which is always a doublebyte\n",
    "        self.class_attr = {\"name\": self.parent} # Sets Class for each row/entry from PSD (Should be the same for all entries)\n",
    "\n",
    "    def __str__(self):\n",
    "        return  f'Instance XML Element with name: {self.name}'\n",
    "\n",
    "    def create_element(self):\n",
    "        xml_instance  = ET.SubElement(self.parent, \"instance\", attrib=self.attr)\n",
    "        xml_class     = ET.SubElement(xml_instance, \"class\")\n",
    "        xml_sub_class = ET.SubElement(xml_class, \"ref\", attrib=self.class_attr)           \n",
    "        xml_chartype  = ET.SubElement(xml_instance, \"chartype\", attrib=self.chartype_attr)# Inserts chartype attribute\n",
    "\n",
    "        as_string = ET.tostring(self.parent, encoding='us-ascii', method='xml')\n",
    "        return self.parent\n",
    "\n",
    "        def add_text_attribute(self, attributes_dict):\n",
    "            attr_entry = ET.SubElement(xml_instance, \"attribute\", attributes_dict)\n",
    "\n",
    "        def add_pointer_attribute(self, attributes_dict):\n",
    "            attr_entry = ET.SubElement(xml_instance, \"attribute\", attributes_dict)\n",
    "            pointer_sub_entry = ET.SubElement(attr_entry, \"ref\", pointer_dict)"
   ]
  },
  {
   "cell_type": "code",
   "execution_count": null,
   "metadata": {},
   "outputs": [],
   "source": [
    "# Try to incorporate the Instance class \n",
    "root = ET.Element('top')  # Root element\n",
    "\n",
    "# Iterate through dataframe in correct order to produce XML instance\n",
    "for index, col in psd_data[start_row:end_row].iterrows():\n",
    "    \n",
    "    # Inserts Instance for each row in PSD\n",
    "    psd_entry = Instance(col[\"ID\"], root)\n",
    "    new_xml_str = psd_entry.create_element()\n",
    "\n",
    "    # Loop through header dictionary for attributes\n",
    "    for k, v in header_dict.items():\n",
    "\n",
    "        # Need to insert if statement where \"pointers\" receive \"ref\" sub-child\n",
    "        if v == \"text\":\n",
    "            attr_dict = {\"name\": k, \"type\": v, \"value\": psd_data.at[index, k].__str__()}    \n",
    "            psd_entry.add_text_attribute(attr_dict)\n",
    "        # Whats the difference between pointer and pointer-merge? May have to change this. \n",
    "        elif \"pointer\" in v: \n",
    "            attr_dict = {\"name\": k, \"type\": v}\n",
    "            pointer_dict = {\"value\": psd_data.at[index, k].__str__()}\n",
    "            psd_entry.add_pointer_attribute(attr_dict, pointer_dict)"
   ]
  },
  {
   "cell_type": "code",
   "execution_count": 73,
   "metadata": {},
   "outputs": [],
   "source": [
    "# Iterate through dataframe in correct order to produce XML instance\n",
    "root = ET.Element('top')  # Root element\n",
    "\n",
    "# Sets Class for each row/entry from PSD (Should be the same for all entries)\n",
    "class_ref_name = psd_data.columns[0] # This uses the PSD column header for the class name.\n",
    "class_attr = {\"name\": class_ref_name}\n",
    "\n",
    "# Sets chartype, which is always a doublebyte\n",
    "chartype_attr = {\"value\": \"doublebyte\"}\n",
    "\n",
    "for index, col in psd_data[start_row:end_row].iterrows():\n",
    "    # Inserts Instance for each row in PSD\n",
    "    inst_attr = {\"name\": col[\"ID\"]}\n",
    "    instance = ET.SubElement(root, \"instance\", attrib=inst_attr)\n",
    "\n",
    "    # Inserts Class for each row in PSD\n",
    "    class_entry = ET.SubElement(instance, \"class\")\n",
    "    class_sub_entry = ET.SubElement(class_entry, \"ref\", attrib=class_attr)\n",
    "\n",
    "    # Inserts chartype attribute\n",
    "    chartype = ET.SubElement(instance, \"chartype\", chartype_attr)\n",
    "\n",
    "    # Loop through header dictionary for attributes\n",
    "    for k, v in header_dict.items():\n",
    "        # Need to insert if statement where pointers receive sub-child\n",
    "        if v == \"text\":\n",
    "            attr_dict = {\"name\": k, \"type\": v, \"value\": psd_data.at[index, k].__str__()}\n",
    "            attr_entry = ET.SubElement(instance, \"attribute\", attr_dict)\n",
    "        elif \"pointer\" in v: # Whats the difference between pointer and pointer-merge? May have to change this. \n",
    "            attr_dict = {\"name\": k, \"type\": v}\n",
    "            attr_entry = ET.SubElement(instance, \"attribute\", attr_dict)\n",
    "            pointer_dict = {\"value\": psd_data.at[index, k].__str__()}\n",
    "            pointer_sub_entry = ET.SubElement(attr_entry, \"ref\", attrib=pointer_dict)"
   ]
  },
  {
   "cell_type": "code",
   "execution_count": null,
   "metadata": {},
   "outputs": [],
   "source": [
    "prettify(root)"
   ]
  }
 ],
 "metadata": {
  "interpreter": {
   "hash": "48fa2eccdebaf1ff24b5e55dfacc47ca863d8022685fa20f5e1e5031fac11810"
  },
  "kernelspec": {
   "display_name": "Python 3.8.3 64-bit (system)",
   "language": "python",
   "name": "python3"
  },
  "language_info": {
   "codemirror_mode": {
    "name": "ipython",
    "version": 3
   },
   "file_extension": ".py",
   "mimetype": "text/x-python",
   "name": "python",
   "nbconvert_exporter": "python",
   "pygments_lexer": "ipython3",
   "version": "3.8.3"
  },
  "orig_nbformat": 4
 },
 "nbformat": 4,
 "nbformat_minor": 2
}
