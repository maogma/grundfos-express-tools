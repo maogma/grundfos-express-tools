{
 "cells": [
  {
   "cell_type": "code",
   "execution_count": 13,
   "metadata": {},
   "outputs": [],
   "source": [
    "import os\n",
    "from utils.file_ops import add_filename_timestamp\n",
    "import shutil\n",
    "import pandas as pd"
   ]
  },
  {
   "cell_type": "code",
   "execution_count": 14,
   "metadata": {},
   "outputs": [
    {
     "data": {
      "text/plain": [
       "'C:\\\\Users\\\\104092\\\\OneDrive - Grundfos\\\\Documents\\\\git\\\\grundfos-express-tools\\\\pipe diameter finder\\\\output files\\\\2022-08-12_09-55-58 Mech GRP foundation for VLS_CUE rev2.xlsx'"
      ]
     },
     "execution_count": 14,
     "metadata": {},
     "output_type": "execute_result"
    }
   ],
   "source": [
    "myDir = r\"C:\\Users\\104092\\OneDrive - Grundfos\\Documents\\git\\grundfos-express-tools\\pipe diameter finder\\input files\"\n",
    "file = \"Mech GRP foundation for VLS_CUE rev2.xlsx\"\n",
    "filePath = os.path.join(myDir, file)\n",
    "\n",
    "# Create working copy\n",
    "completed_dir = r\"C:\\Users\\104092\\OneDrive - Grundfos\\Documents\\git\\grundfos-express-tools\\pipe diameter finder\\output files\"\n",
    "working_copy = os.path.join(completed_dir, add_filename_timestamp(file))\n",
    "shutil.copyfile(filePath, working_copy) # creates working copy to leave original file untouched"
   ]
  },
  {
   "cell_type": "code",
   "execution_count": 15,
   "metadata": {},
   "outputs": [],
   "source": [
    "# Read in Excel sheet to a dataframe\n",
    "sheetname = \"Max flow to diameter, Rev1\"\n",
    "data = pd.read_excel(working_copy, sheet_name=sheetname)\n",
    "data.dropna(axis=1, how='all', inplace=True) # Drops nan columns"
   ]
  },
  {
   "cell_type": "code",
   "execution_count": 16,
   "metadata": {},
   "outputs": [
    {
     "name": "stderr",
     "output_type": "stream",
     "text": [
      "C:\\Users\\104092\\AppData\\Local\\Temp\\ipykernel_127004\\2757576503.py:2: SettingWithCopyWarning: \n",
      "A value is trying to be set on a copy of a slice from a DataFrame.\n",
      "Try using .loc[row_indexer,col_indexer] = value instead\n",
      "\n",
      "See the caveats in the documentation: https://pandas.pydata.org/pandas-docs/stable/user_guide/indexing.html#returning-a-view-versus-a-copy\n",
      "  branch_data['copy_index'] = branch_data.index\n",
      "C:\\Users\\104092\\AppData\\Local\\Temp\\ipykernel_127004\\2757576503.py:5: SettingWithCopyWarning: \n",
      "A value is trying to be set on a copy of a slice from a DataFrame.\n",
      "Try using .loc[row_indexer,col_indexer] = value instead\n",
      "\n",
      "See the caveats in the documentation: https://pandas.pydata.org/pandas-docs/stable/user_guide/indexing.html#returning-a-view-versus-a-copy\n",
      "  header_data['copy_index'] = header_data.index\n",
      "C:\\Users\\104092\\AppData\\Local\\Temp\\ipykernel_127004\\2757576503.py:9: SettingWithCopyWarning: \n",
      "A value is trying to be set on a copy of a slice from a DataFrame\n",
      "\n",
      "See the caveats in the documentation: https://pandas.pydata.org/pandas-docs/stable/user_guide/indexing.html#returning-a-view-versus-a-copy\n",
      "  reference_df.dropna(axis='index', how='any', inplace=True)\n"
     ]
    }
   ],
   "source": [
    "branch_data = data[[\"Max Branch Flow (gpm)\",\"Max Branch Diameter (in.)\"]]\n",
    "branch_data['copy_index'] = branch_data.index\n",
    "\n",
    "header_data = data[[\"Max Header Flow (gpm)\",\"Max Header Diameter (in.)\"]]\n",
    "header_data['copy_index'] = header_data.index\n",
    "\n",
    "reference_df = data[[\"Flow (gpm)\", \"Pipe Diameter (in.)\"]]\n",
    "reference_df.set_index(\"Flow (gpm)\", inplace=True)\n",
    "reference_df.dropna(axis='index', how='any', inplace=True)"
   ]
  },
  {
   "cell_type": "code",
   "execution_count": 17,
   "metadata": {},
   "outputs": [],
   "source": [
    "branch_output_df = pd.merge_asof(branch_data.sort_values('Max Branch Flow (gpm)'), reference_df, left_on=\"Max Branch Flow (gpm)\", right_on=\"Flow (gpm)\", direction='backward')\n",
    "branch_output_df.sort_values(by=['copy_index'], inplace=True)\n",
    "header_output_df = pd.merge_asof(header_data.sort_values('Max Header Flow (gpm)'), reference_df, left_on=\"Max Header Flow (gpm)\", right_on=\"Flow (gpm)\", direction='backward')\n",
    "header_output_df.sort_values(by=['copy_index'], inplace=True)"
   ]
  },
  {
   "cell_type": "code",
   "execution_count": 18,
   "metadata": {},
   "outputs": [],
   "source": [
    "output_df = pd.merge(branch_output_df, header_output_df, on=\"copy_index\")\n",
    "output_df.drop(['copy_index'], axis=1, inplace=True)"
   ]
  },
  {
   "cell_type": "code",
   "execution_count": 19,
   "metadata": {},
   "outputs": [],
   "source": [
    "# Write resulting dataframes to new sheet in PSD with changes.\n",
    "with pd.ExcelWriter(working_copy, engine='openpyxl', mode='a', if_sheet_exists='overlay') as writer:  \n",
    "    output_df.to_excel(writer, sheet_name=\"Run 2\", index=False)"
   ]
  }
 ],
 "metadata": {
  "interpreter": {
   "hash": "48fa2eccdebaf1ff24b5e55dfacc47ca863d8022685fa20f5e1e5031fac11810"
  },
  "kernelspec": {
   "display_name": "Python 3.8.3 64-bit (system)",
   "language": "python",
   "name": "python3"
  },
  "language_info": {
   "codemirror_mode": {
    "name": "ipython",
    "version": 3
   },
   "file_extension": ".py",
   "mimetype": "text/x-python",
   "name": "python",
   "nbconvert_exporter": "python",
   "pygments_lexer": "ipython3",
   "version": "3.8.3"
  },
  "orig_nbformat": 4
 },
 "nbformat": 4,
 "nbformat_minor": 2
}
