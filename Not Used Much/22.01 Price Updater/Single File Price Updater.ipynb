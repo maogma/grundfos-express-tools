{
 "cells": [
  {
   "cell_type": "markdown",
   "metadata": {},
   "source": [
    "#### Pseudo Code\n",
    "\n",
    "- Convert original pricing PSD to dataframe\n",
    "- Create dataframe or dictionary containing partnumber, SAP description, and new pricing data\n",
    "- Iterate through and update pricing in dataframe referencing pricing dictionary/dataframe\n",
    "\n",
    "\n",
    "\n",
    "- Add 2 columns: 1 to contain original pricing, and 1 to calculate percent difference?\n",
    "- Write new tabs to excel\n",
    "\"\"\""
   ]
  },
  {
   "cell_type": "markdown",
   "metadata": {},
   "source": [
    "#### Imports"
   ]
  },
  {
   "cell_type": "code",
   "execution_count": 17,
   "metadata": {},
   "outputs": [],
   "source": [
    "import pandas as pd\n",
    "import os\n",
    "import openpyxl"
   ]
  },
  {
   "cell_type": "markdown",
   "metadata": {},
   "source": [
    "#### Convert original pricing PSD to dataframe"
   ]
  },
  {
   "cell_type": "code",
   "execution_count": 18,
   "metadata": {},
   "outputs": [],
   "source": [
    "# Folder where PSDs are located\n",
    "fileDir = r\"C:\\Users\\104092\\OneDrive - Grundfos\\Documents\\10-19 Projects\\15 Patrick Price Update\\15.01 Original PSDs\"\n",
    "\n",
    "file_to_change = r\"TPE3 Grundfos_GrundfosPumps Constraint Table PSD.xlsx\"\n",
    "filePath = os.path.join(fileDir, file_to_change)\n",
    "\n",
    "# Create dataframe from PSD\n",
    "psd_data = pd.read_excel(filePath, sheet_name=1, header=None, na_filter=False)\n",
    "\n",
    "new_header = psd_data.iloc[1] # grab the 2nd row for the header\n",
    "psd_data.columns = new_header # set the header row as the new df header"
   ]
  },
  {
   "cell_type": "markdown",
   "metadata": {},
   "source": [
    "#### Convert Big Book to dataframe or dictionary containing partnumber, SAP description, and new pricing data"
   ]
  },
  {
   "cell_type": "code",
   "execution_count": 19,
   "metadata": {},
   "outputs": [],
   "source": [
    "newDir = r\"C:\\Users\\104092\\OneDrive - Grundfos\\Documents\\10-19 Projects\\15 Patrick Price Update\"\n",
    "newPrices = r\"2023_Big_Book_v.1.xlsx\"\n",
    "pathNewPrices = os.path.join(newDir, newPrices)\n",
    "\n",
    "# Create dataframe of new prices\n",
    "big_book_cols = ['Part Number', '2023 List Prices']\n",
    "newPrice_data = pd.read_excel(pathNewPrices, sheet_name=0, usecols=big_book_cols)\n",
    "\n",
    "# Renaming part number column for use in pandas merge\n",
    "newPrice_data.rename(columns = {'Part Number':'Big Book Part Number'}, inplace=True)"
   ]
  },
  {
   "cell_type": "markdown",
   "metadata": {},
   "source": [
    "#### Reorder df column function"
   ]
  },
  {
   "cell_type": "code",
   "execution_count": 20,
   "metadata": {},
   "outputs": [],
   "source": [
    "def reorder_columns(dataframe, col_name, position):\n",
    "    \"\"\"Reorder a dataframe's column.\n",
    "    Args:\n",
    "        dataframe (pd.DataFrame): dataframe to use\n",
    "        col_name (string): column name to move\n",
    "        position (0-indexed position): where to relocate column to\n",
    "    Returns:\n",
    "        pd.DataFrame: re-assigned dataframe\n",
    "    \"\"\"\n",
    "    temp_col = dataframe[col_name]\n",
    "    dataframe = dataframe.drop(columns=[col_name])\n",
    "    dataframe.insert(loc=position, column=col_name, value=temp_col)\n",
    "    return dataframe"
   ]
  },
  {
   "cell_type": "markdown",
   "metadata": {},
   "source": [
    "#### Iterate through and update pricing in dataframe referencing pricing dictionary/dataframe"
   ]
  },
  {
   "cell_type": "code",
   "execution_count": 21,
   "metadata": {},
   "outputs": [],
   "source": [
    "# Essentially a VLOOKUP in python\n",
    "df = psd_data.merge(newPrice_data, how='left', left_on='PartNumber', right_on='Big Book Part Number')\n",
    "\n",
    "# Find Column Index of \"ListPrice\" within excel file (This is where we will insert the new prices column)\n",
    "insert_loc_col = df.columns.get_loc(\"ListPrice\") + 1\n",
    "\n",
    "# Re ordering columns for QA review. Insert New Columns (PN, List Price) next to \"ListPrice\" column for comparison\n",
    "df = reorder_columns(dataframe=df, col_name=big_book_cols[1], position=insert_loc_col)\n",
    "df = reorder_columns(dataframe=df, col_name='Big Book Part Number', position=insert_loc_col)"
   ]
  },
  {
   "cell_type": "markdown",
   "metadata": {},
   "source": [
    "#### Need to Move \"ListPrice\" Attribute to new 2023 List Price Column"
   ]
  },
  {
   "cell_type": "code",
   "execution_count": 22,
   "metadata": {},
   "outputs": [],
   "source": [
    "# Clear Old Column List Price Attributes\n",
    "df.at[1, 'ListPrice'] = \"\"\n",
    "df.at[2, 'ListPrice'] = \"\"\n",
    "\n",
    "# Set New Column List Price Attributes\n",
    "df.at[1, big_book_cols[1]] = \"ListPrice\"\n",
    "df.at[2, big_book_cols[1]] = \"double\"\n",
    "df.at[7, big_book_cols[1]] = big_book_cols[1]"
   ]
  },
  {
   "cell_type": "markdown",
   "metadata": {},
   "source": [
    "#### Create Working Copy of pricing PSD; leaving original untouched"
   ]
  },
  {
   "cell_type": "code",
   "execution_count": 163,
   "metadata": {},
   "outputs": [
    {
     "data": {
      "text/plain": [
       "'C:\\\\Users\\\\104092\\\\OneDrive - Grundfos\\\\Documents\\\\10-19 Projects\\\\15 Patrick Price Update\\\\15.02 Output Files\\\\TPE3 Grundfos_GrundfosPumps Constraint Table PSD - Ready for Review.xlsx'"
      ]
     },
     "execution_count": 163,
     "metadata": {},
     "output_type": "execute_result"
    }
   ],
   "source": [
    "import shutil\n",
    "\n",
    "filename, file_ext = file_to_change.split(os.extsep)\n",
    "\n",
    "outputDir = r\"C:\\Users\\104092\\OneDrive - Grundfos\\Documents\\10-19 Projects\\15 Patrick Price Update\\15.02 Output Files\"\n",
    "outputFilename = filename + \" - Ready for Review.\" + file_ext\n",
    "outputPath = os.path.join(outputDir, outputFilename)\n",
    "\n",
    "shutil.copyfile(filePath, outputPath) # Create copy to leave original untouched"
   ]
  },
  {
   "cell_type": "markdown",
   "metadata": {},
   "source": [
    "#### Write to new tab in excel sheet"
   ]
  },
  {
   "cell_type": "code",
   "execution_count": 164,
   "metadata": {},
   "outputs": [],
   "source": [
    "from openpyxl import load_workbook\n",
    "wb = load_workbook(outputPath, data_only=True)\n",
    "ws = wb.worksheets[1]\n",
    "sheet_name = ws.title"
   ]
  },
  {
   "cell_type": "code",
   "execution_count": 165,
   "metadata": {},
   "outputs": [],
   "source": [
    "# Write dataframe \n",
    "with pd.ExcelWriter(outputPath, mode=\"a\", engine=\"openpyxl\", if_sheet_exists='replace') as writer:\n",
    "    # df3.to_excel(writer, sheet_name=\"CP BpaQ\", header=None, startrow=writer.sheets[\"Sheet1\"].max_row, index=False)\n",
    "    df.to_excel(writer, sheet_name=sheet_name, header=None, index=False)"
   ]
  }
 ],
 "metadata": {
  "interpreter": {
   "hash": "5d89935b22884bac8e846ef6a5fb14ff565b7e382ac92ebe1031401d4b8e3f29"
  },
  "kernelspec": {
   "display_name": "Python 3.10.2 64-bit",
   "language": "python",
   "name": "python3"
  },
  "language_info": {
   "codemirror_mode": {
    "name": "ipython",
    "version": 3
   },
   "file_extension": ".py",
   "mimetype": "text/x-python",
   "name": "python",
   "nbconvert_exporter": "python",
   "pygments_lexer": "ipython3",
   "version": "3.10.2"
  },
  "orig_nbformat": 4
 },
 "nbformat": 4,
 "nbformat_minor": 2
}
