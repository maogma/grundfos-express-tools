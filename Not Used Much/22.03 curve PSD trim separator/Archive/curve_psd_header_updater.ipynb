{
 "cells": [
  {
   "cell_type": "markdown",
   "metadata": {},
   "source": [
    "- Pre-Requisite: Need to have original \"Curve Header Data\" populated\n",
    "- Load \"Curve Header Data\" tab as ws\n",
    "- Loop through all curve tabs, and create copy of relevant entry from \"Curve Header Data\" entry"
   ]
  },
  {
   "cell_type": "markdown",
   "metadata": {},
   "source": [
    "#### File Setup"
   ]
  },
  {
   "cell_type": "code",
   "execution_count": 4,
   "metadata": {},
   "outputs": [],
   "source": [
    "import os\n",
    "import openpyxl\n",
    "import pandas as pd"
   ]
  },
  {
   "cell_type": "code",
   "execution_count": 5,
   "metadata": {},
   "outputs": [],
   "source": [
    "fileDir = r\"C:\\Users\\104092\\OneDrive - Grundfos\\Documents\\10-19 Projects\\12 NBS Curve PSD Separation\\12.02 Output Files\"\n",
    "file_to_change = r\"Populated Curve PSD.xlsx\"\n",
    "filePath = os.path.join(fileDir, file_to_change)\n",
    "\n",
    "tabName = \"Curve Header Data\""
   ]
  },
  {
   "cell_type": "code",
   "execution_count": 6,
   "metadata": {},
   "outputs": [],
   "source": [
    "# Creates dataframe from excel tab of interest\n",
    "raw_data = pd.read_excel(filePath, sheet_name=tabName, header=8)"
   ]
  },
  {
   "cell_type": "code",
   "execution_count": 7,
   "metadata": {},
   "outputs": [],
   "source": [
    "# Create list of all new curve numbers\n",
    "wb = openpyxl.load_workbook(filePath, data_only=True)\n",
    "\n",
    "new_curves_list = [ sheet.title for sheet in wb.worksheets if type(sheet.title)==str ] "
   ]
  },
  {
   "cell_type": "markdown",
   "metadata": {},
   "source": [
    "#### Main Code\n",
    "- Loop through each curve number entry in curve header data tab\n",
    "- For each matching trim worksheet found, append duplicate entry to new dataframe, but rename curve number to match"
   ]
  },
  {
   "cell_type": "code",
   "execution_count": 8,
   "metadata": {},
   "outputs": [],
   "source": [
    "rows_list = [] # will hold list of dataframes to be removed. Will concatenate to 1 dataframe later\n",
    "\n",
    "for _, col_data in raw_data.iterrows():\n",
    "    if type(col_data['Curve number']) == str:\n",
    "        for curve_number in new_curves_list:\n",
    "            if col_data['Curve number'] in curve_number:\n",
    "                mydict = col_data.to_dict()\n",
    "                mydict.update({'Curve number':curve_number})\n",
    "                rows_list.append(mydict)\n",
    "\n",
    "# Concatenating list of dfs to single dfs.\n",
    "updated_data = pd.DataFrame(rows_list)"
   ]
  },
  {
   "cell_type": "markdown",
   "metadata": {},
   "source": [
    "#### Need to write updated_data to excel \"curve Header Tab\"\n",
    "- May need to append / overlay on existing tab"
   ]
  },
  {
   "cell_type": "code",
   "execution_count": 9,
   "metadata": {},
   "outputs": [],
   "source": [
    "# Write resulting dataframes to new sheet in PSD with changes.\n",
    "psd_startrow = 10\n",
    "\n",
    "with pd.ExcelWriter(filePath, engine='openpyxl', mode='a', if_sheet_exists='overlay') as writer:  \n",
    "    updated_data.to_excel(writer, sheet_name=tabName, index=False, header=False, startrow=psd_startrow)"
   ]
  },
  {
   "cell_type": "markdown",
   "metadata": {},
   "source": [
    "#### Update Curve Family Cell B7"
   ]
  }
 ],
 "metadata": {
  "interpreter": {
   "hash": "5d89935b22884bac8e846ef6a5fb14ff565b7e382ac92ebe1031401d4b8e3f29"
  },
  "kernelspec": {
   "display_name": "Python 3.10.2 64-bit",
   "language": "python",
   "name": "python3"
  },
  "language_info": {
   "codemirror_mode": {
    "name": "ipython",
    "version": 3
   },
   "file_extension": ".py",
   "mimetype": "text/x-python",
   "name": "python",
   "nbconvert_exporter": "python",
   "pygments_lexer": "ipython3",
   "version": "3.10.2"
  },
  "orig_nbformat": 4
 },
 "nbformat": 4,
 "nbformat_minor": 2
}
