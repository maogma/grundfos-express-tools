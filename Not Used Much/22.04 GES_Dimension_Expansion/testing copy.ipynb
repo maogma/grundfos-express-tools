{
 "cells": [
  {
   "cell_type": "code",
   "execution_count": 1,
   "metadata": {},
   "outputs": [],
   "source": [
    "\"\"\"\n",
    "- Iterate through data and find which rows need to be duplicated\n",
    "- Make note of original row indeces to duplicate, as well as list of values from column N and O\n",
    "- Calculate number of rows to duplicate\n",
    "- Create appropriate # of rows\n",
    "- Write new dataframe to excel sheet\n",
    "\"\"\"\n",
    "\n",
    "from openpyxl import load_workbook\n",
    "import os\n",
    "import pandas as pd\n",
    "import numpy as np\n",
    "import time\n",
    "import logging\n"
   ]
  },
  {
   "cell_type": "code",
   "execution_count": 2,
   "metadata": {},
   "outputs": [],
   "source": [
    "\n",
    "# logging.basicConfig(format='%(asctime)s %(levelname)-8s [%(filename)s:%(lineno)d] %(message)s', datefmt='%m-%d-%Y %H:%M:%S', level=logging.INFO, filename='logs.txt')\n",
    "\n",
    "# time_logger = logging.getLogger('script_timer')\n",
    "\n",
    "myDir = r\"C:\\Users\\104092\\OneDrive - Grundfos\\Documents\\git\\grundfos-express-tools\\GES_Dimension_Expansion\"\n",
    "myFile = \"Copy of Mech GRP foundation for VLS_CUE rev3.xlsx\"\n",
    "filePath = os.path.join(myDir, myFile)\n",
    "\n",
    "# Here are the 2 columns of interest\n",
    "colN = \"Branch Size Range, Numerical List (inches)\"\n",
    "colV = \"Header Size Range, Numerical List (inches)\"\n",
    "\n",
    "# Creates dataframe from excel tab of interest\n",
    "sheetname = \"GES_VLS_CUE (2)\"\n",
    "data = pd.read_excel(filePath, sheet_name=sheetname, header=0, index_col=False)\n"
   ]
  },
  {
   "cell_type": "code",
   "execution_count": 14,
   "metadata": {},
   "outputs": [],
   "source": [
    "\n",
    "# This creates a new empty dataframe which will hold the new rows\n",
    "column_names = data.columns\n",
    "extraRowsDataframe = pd.DataFrame(columns=column_names)"
   ]
  },
  {
   "cell_type": "code",
   "execution_count": 3,
   "metadata": {},
   "outputs": [],
   "source": [
    "def keepNumType(numString):\n",
    "    \"\"\" This function will retain the cell value type as a int/float instead of a string\"\"\"\n",
    "    try:\n",
    "        # Convert it into integer\n",
    "        val = int(numString)\n",
    "        return val\n",
    "    except ValueError:\n",
    "        try:\n",
    "            # Convert it into float\n",
    "            val = float(numString)\n",
    "            return val\n",
    "        except ValueError:\n",
    "            print(\"No.. input is not a number. It's a string\")\n",
    "    return"
   ]
  },
  {
   "cell_type": "code",
   "execution_count": null,
   "metadata": {},
   "outputs": [],
   "source": [
    "start = time.time()"
   ]
  },
  {
   "cell_type": "code",
   "execution_count": 4,
   "metadata": {},
   "outputs": [],
   "source": [
    "def get_list_of_numbers(col_name: str) -> list:    \n",
    "    \"\"\" Splits any comma separated values in a given column \"\"\"\n",
    "    try:\n",
    "        values_list = row[col_name].split(',')\n",
    "    # If error, then set multiplier to 1 because only one value exists in cell   \n",
    "    except AttributeError:\n",
    "        values_list = [row[col_name],]\n",
    "    \n",
    "    return values_list"
   ]
  },
  {
   "cell_type": "code",
   "execution_count": 9,
   "metadata": {},
   "outputs": [],
   "source": [
    "df_list = []\n",
    "\n",
    "\n",
    "# Iterates through the original dataframe\n",
    "for index, row in data.iterrows():\n",
    "    branchSizes = get_list_of_numbers(colN)\n",
    "    multiplier1 = len(branchSizes)\n",
    "\n",
    "    headerSizes = get_list_of_numbers(colV)\n",
    "    multiplier2 = len(headerSizes)\n",
    "        \n",
    "    # Checks how many rows to add, and modifies the values in the appropriate columns\n",
    "    # \"currentRow\" variable is used to find last row of dataframe\n",
    "    # Case: only 1 value in column N and column V\n",
    "    if multiplier1 == 1 and multiplier2 == 1:\n",
    "        # currentRow = len(extraRowsDataframe)      \n",
    "        extraRowsDataframe.loc[currentRow] = row # Copies existing row from original data to new dataframe\n",
    "        df_list.append(row)\n",
    "    # Case: only 1 value in column N and multiple in column V\n",
    "    elif multiplier1 == 1 and multiplier2 > 1:\n",
    "        for header in headerSizes:\n",
    "            df.loc[currentRow] = row\n",
    "            df.loc[currentRow, colN] = row[colN]\n",
    "            df.loc[currentRow, colV] = keepNumType(header)            \n",
    "            # currentRow = len(extraRowsDataframe)\n",
    "            # extraRowsDataframe.loc[currentRow] = row\n",
    "            # extraRowsDataframe.loc[currentRow, colN] = row[colN]\n",
    "            # extraRowsDataframe.loc[currentRow, colV] = keepNumType(header)\n",
    "    # Case: Multiple values in column N and 1 value in column V\n",
    "    elif multiplier1 > 1 and multiplier2 == 1:\n",
    "        for branch in branchSizes:\n",
    "            currentRow = len(extraRowsDataframe)\n",
    "            extraRowsDataframe.loc[currentRow] = row\n",
    "            extraRowsDataframe.loc[currentRow, colN] = keepNumType(branch)\n",
    "            extraRowsDataframe.loc[currentRow, colV] = row[colV]\n",
    "    # Case: Multiple values in both column N and column V\n",
    "    elif multiplier1 > 1 and multiplier2 > 1:\n",
    "        for branch in branchSizes:\n",
    "            for header in headerSizes:\n",
    "                currentRow = len(extraRowsDataframe)\n",
    "                extraRowsDataframe.loc[currentRow] = row\n",
    "                extraRowsDataframe.loc[currentRow, colN] = keepNumType(branch)\n",
    "                extraRowsDataframe.loc[currentRow, colV] = keepNumType(header)    \n"
   ]
  },
  {
   "cell_type": "code",
   "execution_count": null,
   "metadata": {},
   "outputs": [],
   "source": [
    "\n",
    "time_logger.info(f\"iterating through dataframe took {time.time() - start}\")\n"
   ]
  },
  {
   "cell_type": "code",
   "execution_count": 11,
   "metadata": {},
   "outputs": [],
   "source": [
    "\n",
    "# Adds an extra column to filter out invalid combinations (where header is not > branch)\n",
    "extraRowsDataframe['Valid Combo'] = np.where(extraRowsDataframe[colN] >= extraRowsDataframe[colV], \"INVALID\",\"\")\n"
   ]
  },
  {
   "cell_type": "code",
   "execution_count": null,
   "metadata": {},
   "outputs": [],
   "source": [
    "\n",
    "write_start = time.time()\n"
   ]
  },
  {
   "cell_type": "code",
   "execution_count": null,
   "metadata": {},
   "outputs": [],
   "source": [
    "\n",
    "# Writing new dataframe to a new tab in the excel file\n",
    "with pd.ExcelWriter(filePath, engine=\"openpyxl\", mode='a') as writer:  \n",
    "    extraRowsDataframe.to_excel(writer, sheet_name=\"Expanded Rows\", index=False)"
   ]
  },
  {
   "cell_type": "code",
   "execution_count": null,
   "metadata": {},
   "outputs": [],
   "source": [
    "\n",
    "time_logger.info(f\"writing to excel sheet took {time.time() - write_start}\")    "
   ]
  },
  {
   "cell_type": "code",
   "execution_count": null,
   "metadata": {},
   "outputs": [],
   "source": [
    "\n",
    "# Hiding columns to match source excel sheet formatting\n",
    "wb = load_workbook(filePath)\n",
    "ws = wb[\"Expanded Rows\"]\n",
    "ws.column_dimensions.group(start='P', end='R', hidden=True)\n",
    "ws.column_dimensions.group(start='T', end='U', hidden=True)\n",
    "ws.column_dimensions.group(start='W', end='AA', hidden=True)\n",
    "ws.column_dimensions.group(start='AF', end='AS', hidden=True)\n",
    "\n",
    "# for col in ['P':'U']:\n",
    "#     ws.column_dimensions[col].hidden= True"
   ]
  },
  {
   "cell_type": "code",
   "execution_count": null,
   "metadata": {},
   "outputs": [],
   "source": [
    "\n",
    "wb.save(filePath)"
   ]
  }
 ],
 "metadata": {
  "interpreter": {
   "hash": "48fa2eccdebaf1ff24b5e55dfacc47ca863d8022685fa20f5e1e5031fac11810"
  },
  "kernelspec": {
   "display_name": "Python 3.8.3 64-bit (system)",
   "language": "python",
   "name": "python3"
  },
  "language_info": {
   "codemirror_mode": {
    "name": "ipython",
    "version": 3
   },
   "file_extension": ".py",
   "mimetype": "text/x-python",
   "name": "python",
   "nbconvert_exporter": "python",
   "pygments_lexer": "ipython3",
   "version": "3.8.3"
  },
  "orig_nbformat": 4
 },
 "nbformat": 4,
 "nbformat_minor": 2
}
