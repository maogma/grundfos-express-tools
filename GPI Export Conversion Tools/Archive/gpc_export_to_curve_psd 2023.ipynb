{
 "cells": [
  {
   "cell_type": "markdown",
   "metadata": {},
   "source": [
    "TO DO:\n",
    "- Implement differences between efficiency/power curve PSDs\n",
    "- Update populated curve PSD to reflect Diameter units (Cell B3), Power (B4), Pwr/Eta cell (B5) "
   ]
  },
  {
   "cell_type": "markdown",
   "metadata": {},
   "source": [
    "##### Imports, File Setup"
   ]
  },
  {
   "cell_type": "code",
   "execution_count": 20,
   "metadata": {},
   "outputs": [],
   "source": [
    "import os\n",
    "import pandas as pd\n",
    "import shutil\n",
    "from openpyxl import load_workbook\n",
    "import numpy as np\n",
    "# import re"
   ]
  },
  {
   "cell_type": "code",
   "execution_count": 21,
   "metadata": {},
   "outputs": [],
   "source": [
    "# This is the folder/file with the curve export csv\n",
    "myDir = r\"C:\\Users\\104092\\OneDrive - Grundfos\\Documents\\1 - PROJECTS\\15 SP Integration\\Curve PSD\"\n",
    "myFile = \"PumpCurves - With Impeller Trims.csv\"\n",
    "filePath = os.path.join(myDir, myFile)\n",
    "\n",
    "# This creates a dataframe of the curve export csv, and fills in the RPM(curve nominal) column\n",
    "# data = pd.read_csv(filePath, sep=\";\", index_col=False, skip_blank_lines=False)\n",
    "data = pd.read_csv(filePath, index_col=False, skip_blank_lines=False)\n",
    "# data = data.replace(',','.', regex=True)\n",
    "data.dropna(axis='index', how='all', inplace=True)\n",
    "data['ProductNumber'] = data['ProductNumber'].ffill()"
   ]
  },
  {
   "cell_type": "code",
   "execution_count": 22,
   "metadata": {},
   "outputs": [],
   "source": [
    "# This points to the curve PSD template to be used\n",
    "templateDir = r\"C:\\Users\\104092\\OneDrive - Grundfos\\Documents\\3 - RESOURCES\\32 GXS\"\n",
    "template = \"SKB Blank Curve PSD - Efficiency_Metric.xlsx\"\n",
    "template = os.path.join(templateDir, template)\n",
    "\n",
    "# Create a local working copy to leave template unmodified\n",
    "workingCopy = os.path.join(myDir, \"SP Curve PSD - col A trim testing.xlsx\")\n",
    "shutil.copyfile(template, workingCopy)\n",
    "wb = load_workbook(workingCopy)      "
   ]
  },
  {
   "cell_type": "markdown",
   "metadata": {},
   "source": [
    "##### Functions"
   ]
  },
  {
   "cell_type": "code",
   "execution_count": 23,
   "metadata": {},
   "outputs": [],
   "source": [
    "# def findSpeedCells(my_df):\n",
    "#     \"\"\" function to find which cell to start populating curve data based on RPM\"\"\"\n",
    "#     # from openpyxl.utils.cell import coordinate_from_string, column_index_from_string, get_column_letter\n",
    "#     from openpyxl.utils.cell import get_column_letter\n",
    "#     speedCells = []\n",
    "    \n",
    "#     max_cols = 21 * len(my_df.RPM.unique())\n",
    "#     row = 7    \n",
    "#     first_col = 4\n",
    "#     diameter_cols = list(range(first_col,max_cols,21))\n",
    "    \n",
    "#     for item in diameter_cols:\n",
    "#         col = get_column_letter(item)\n",
    "#         cell_coordinate = \"{}{}\".format(col,row)\n",
    "#         speedCells.append(cell_coordinate)      \n",
    "\n",
    "#     return(speedCells)"
   ]
  },
  {
   "cell_type": "code",
   "execution_count": 24,
   "metadata": {},
   "outputs": [],
   "source": [
    "# def add_a_curve(list_unique_curves):  # WORKING. DO NOT MODIFY YET\n",
    "#     \"\"\" CREATE new tabs for each unique curve family \"\"\"\n",
    "    \n",
    "#     global wb\n",
    "#     tab_to_copy = wb['NEW'] \n",
    "    \n",
    "#     partnumbers = []\n",
    "#     min_speeds = []\n",
    "#     nom_speeds = []\n",
    "#     max_speeds = []\n",
    "    \n",
    "#     # Add a tab for each unique curve\n",
    "#     for item in list_unique_curves: \n",
    "        \n",
    "#         list_of_speeds = []\n",
    "\n",
    "#         # Add 1 tab\n",
    "#         tabName = str(item[0])\n",
    "#         # print(tabName)\n",
    "#         wb.copy_worksheet(tab_to_copy).title = tabName\n",
    "\n",
    "#         # Fill in all speeds/trims in column A\n",
    "#         for key, value in curveDataDict[tabName].iterrows():\n",
    "#             list_of_speeds.append(value['RPM'])\n",
    "        \n",
    "#         speed_set = sorted(set(list_of_speeds), reverse=True)\n",
    "#         # print(tabName, speed_set)  \n",
    "        \n",
    "#         for index, eachSpeed in enumerate(speed_set):\n",
    "#             cell_name = \"{}{}\".format('A', 10+index)\n",
    "#             curveSheet = wb[tabName]\n",
    "#             curveSheet[cell_name].value = int(eachSpeed)\n",
    "\n",
    "#             min_rpm, nom_rpm, max_rpm = get_min_max_values(speed_set)\n",
    "            \n",
    "#             partnumbers.append(tabName)\n",
    "#             min_speeds.append(min_rpm)\n",
    "#             nom_speeds.append(nom_rpm)\n",
    "#             max_speeds.append(max_rpm)\n",
    "            \n",
    "#             zipped = list(zip(partnumbers, min_speeds, nom_speeds, max_speeds))\n",
    "#             df = pd.DataFrame(zipped, columns=['Partnumber','Min RPM','Nominal RPM', 'Max RPM'])\n",
    "        \n",
    "#     return df\n",
    "    \n",
    "# # Adds curve tabs for each unique curve\n",
    "# # minmax_speeds_df = add_a_curve(uniqueCurvePartnumbers)"
   ]
  },
  {
   "cell_type": "code",
   "execution_count": 25,
   "metadata": {},
   "outputs": [],
   "source": [
    "def curveDataMatches(curveDataDict):  \n",
    "    \"\"\" Create list of PNs that share curve data \"\"\"\n",
    "\n",
    "    curveDataCopy = curveDataDict.copy()\n",
    "    listOfLists = []\n",
    "    \n",
    "    for eachPN, eachDF in curveDataDict.items():  \n",
    "        listOfPNs = []\n",
    "        for key, value in curveDataCopy.items():\n",
    "            if value.equals(eachDF):\n",
    "                listOfPNs.append(key)\n",
    "        \n",
    "        if listOfPNs not in listOfLists:\n",
    "            listOfLists.append(listOfPNs)\n",
    "    \n",
    "    # print(f'list of lists: {listOfLists}')\n",
    "    # print(f'list of pns: {listOfPNs}')\n",
    "    \n",
    "    return listOfLists"
   ]
  },
  {
   "cell_type": "markdown",
   "metadata": {},
   "source": [
    "##### Testing"
   ]
  },
  {
   "cell_type": "markdown",
   "metadata": {},
   "source": [
    "##### Main"
   ]
  },
  {
   "cell_type": "code",
   "execution_count": 26,
   "metadata": {},
   "outputs": [],
   "source": [
    "# Creates dictionary with part numbers as keys, curves as dataframes for each key\n",
    "grouped = data.groupby(data.ProductNumber)\n",
    "\n",
    "dict_curveData = {}\n",
    "for productNumber, sub_df in grouped:\n",
    "    dict_curveData.update({productNumber:sub_df})"
   ]
  },
  {
   "cell_type": "code",
   "execution_count": 27,
   "metadata": {},
   "outputs": [],
   "source": [
    "# Creates list of which part numbers share curve data\n",
    "uniqueCurvePartnumbers = curveDataMatches(dict_curveData)"
   ]
  },
  {
   "cell_type": "code",
   "execution_count": 28,
   "metadata": {},
   "outputs": [],
   "source": [
    "# Add 1 curve tab to workbook for every unique curve found (avoids duplicating data in SKB)\n",
    "for item in uniqueCurvePartnumbers: \n",
    "    tabName = str(item[0])\n",
    "    wb.copy_worksheet(wb['NEW']).title = tabName # Creates and renames blank PSD Tab as template for each new curve tab"
   ]
  },
  {
   "cell_type": "code",
   "execution_count": 29,
   "metadata": {},
   "outputs": [],
   "source": [
    "def extract_variable_speeds(df) -> list:\n",
    "    ''' Takes curve data in dataframe format, and returns list of all unique speeds for variable speed pumps'''\n",
    "    list_of_rpms = []\n",
    "\n",
    "    for key, value in df.iterrows():\n",
    "        rpm_value = value['RPM(Curve nominal)']\n",
    "        if not np.isnan(rpm_value):\n",
    "            list_of_rpms.append(rpm_value)\n",
    "    \n",
    "    list_of_rpms = sorted(set(list_of_rpms), reverse=True)\n",
    "\n",
    "    return list_of_rpms"
   ]
  },
  {
   "cell_type": "code",
   "execution_count": 30,
   "metadata": {},
   "outputs": [],
   "source": [
    "def extract_variable_trims(df) -> list:\n",
    "    ''' Takes curve data in dataframe format, and returns list of all trims for trimmable pumps'''\n",
    "    list_of_trims = []\n",
    "\n",
    "    for key, value in df.iterrows():\n",
    "        trim_value = value['Impeller size']\n",
    "        if not np.isnan(trim_value):\n",
    "            list_of_trims.append(trim_value)\n",
    "    \n",
    "    list_of_trims = sorted(set(list_of_trims), reverse=True)\n",
    "\n",
    "    return list_of_trims"
   ]
  },
  {
   "cell_type": "code",
   "execution_count": null,
   "metadata": {},
   "outputs": [],
   "source": [
    "# Iterate through list of unique curve names, and populate the corresponding workbook tab\n",
    "for uniqueCurve in uniqueCurvePartnumbers:\n",
    "    curveSheet = wb[uniqueCurve[0]]\n",
    "    curve_data_df = dict_curveData[uniqueCurve[0]]\n",
    "    \n",
    "    # Fill Speed or trim in column A\n",
    "    # speeds = extract_variable_speeds(curve_data_df)\n",
    "    trims = extract_variable_trims(curve_data_df)\n",
    "\n",
    "    for index, eachSpeedTrim in enumerate(trims):\n",
    "        cell_name = \"{}{}\".format('A', 10+index)\n",
    "        curveSheet[cell_name].value = int(eachSpeedTrim)\n",
    "        # print(f'For PN: {uniqueCurve[0]} -> cell: {cell_name} should have value: {int(eachSpeed)}. It currently has: {curveSheet[cell_name].value}')\n",
    "\n",
    "    # Fill Curve, power/eff, NPSH data\n",
    "    cellName = 'D7' \n",
    "    first_row_offset = 3\n",
    "\n",
    "    for key, value in curve_data_df.iterrows():\n",
    "        print(value)\n",
    "        curveSheet[cellName].offset(first_row_offset + key, 0).value = value['Q']\n",
    "        curveSheet[cellName].offset(first_row_offset + key, 1).value = value['H']\n",
    "        curveSheet[cellName].offset(first_row_offset + key, 7).value = value['Q']\n",
    "        # curveSheet[cellName].offset(first_row_offset + key, 8).value = value['Eta1']\n",
    "        curveSheet[cellName].offset(first_row_offset + key, 8).value = value['P1']\n",
    "        curveSheet[cellName].offset(first_row_offset + key,14).value = value['Q']\n",
    "        curveSheet[cellName].offset(first_row_offset + key,15).value = value['NPSH']\n",
    "    "
   ]
  },
  {
   "cell_type": "code",
   "execution_count": 234,
   "metadata": {},
   "outputs": [],
   "source": [
    "# def speeds_for_curve_header_data():\n",
    "    # # partnumbers = []\n",
    "    # # min_speeds = []\n",
    "    # # nom_speeds = []\n",
    "    # # max_speeds = []\n",
    "\n",
    "    # min_rpm, nom_rpm, max_rpm = get_min_max_values(speed_set)\n",
    "\n",
    "    # partnumbers.append(tabName)\n",
    "    # min_speeds.append(min_rpm)\n",
    "    # nom_speeds.append(nom_rpm)\n",
    "    # max_speeds.append(max_rpm)\n",
    "\n",
    "    # zipped = list(zip(partnumbers, min_speeds, nom_speeds, max_speeds))\n",
    "    # df = pd.DataFrame(zipped, columns=['Partnumber','Min RPM','Nominal RPM', 'Max RPM'])\n",
    "#     return"
   ]
  },
  {
   "cell_type": "code",
   "execution_count": 235,
   "metadata": {},
   "outputs": [],
   "source": [
    "# # Fill out Curve Header Data Tab\n",
    "# newPumpFamilyName = \"SP\"\n",
    "# sheet = wb[\"Curve Header Data\"]\n",
    "# sheet['B7'] = newPumpFamilyName\n",
    "\n",
    "# cellName = 'A1' \n",
    "# first_row_offset = 10\n",
    "\n",
    "# for index, speedData in df_of_speeds.iterrows():\n",
    "#     sheet[cellName].offset((first_row_offset + index), 0).value = speedData['Partnumber']\n",
    "#     sheet[cellName].offset((first_row_offset + index), 2).value = speedData['Nominal RPM']\n",
    "#     sheet[cellName].offset((first_row_offset + index), 6).value = speedData['Nominal RPM']\n",
    "#     sheet[cellName].offset((first_row_offset + index), 7).value = speedData['Min RPM']\n",
    "#     sheet[cellName].offset((first_row_offset + index), 8).value = speedData['Max RPM']"
   ]
  },
  {
   "cell_type": "code",
   "execution_count": 236,
   "metadata": {},
   "outputs": [],
   "source": [
    "def fillCurveHeaderDataTab(df_of_speeds):\n",
    "    global wb\n",
    "    newPumpFamilyName = \"SP\"\n",
    "    sheet = wb[\"Curve Header Data\"]\n",
    "\n",
    "    cellName = 'A1' \n",
    "    first_row_offset = 10\n",
    "\n",
    "    for index, speedData in df_of_speeds.iterrows():\n",
    "        sheet[cellName].offset((first_row_offset + index), 0).value = speedData['Partnumber']\n",
    "        sheet[cellName].offset((first_row_offset + index), 2).value = speedData['Nominal RPM']\n",
    "        sheet[cellName].offset((first_row_offset + index), 6).value = speedData['Nominal RPM']\n",
    "        sheet[cellName].offset((first_row_offset + index), 7).value = speedData['Min RPM']\n",
    "        sheet[cellName].offset((first_row_offset + index), 8).value = speedData['Max RPM']\n",
    "\n",
    "    sheet['B7'] = newPumpFamilyName\n",
    "    wb.save(workingCopy)\n",
    "\n",
    "    return\n",
    "\n",
    "# fillCurveHeaderDataTab(minmax_speeds_df)"
   ]
  },
  {
   "cell_type": "code",
   "execution_count": 237,
   "metadata": {},
   "outputs": [],
   "source": [
    "# Create list of PNs that share curve data, and inserts tab to illustrate\n",
    "curveFamilySheet = wb.create_sheet(\"Shared Curves\", 2)\n",
    "\n",
    "for index, family in enumerate(uniqueCurvePartnumbers):\n",
    "    row = index + 1  # Excel doesn't like 0-indexes\n",
    "\n",
    "    # Fill 1st column in spreadsheet\n",
    "    curveFamilySheet.cell(row=row, column=1).value = \"Curve \" + str(row)\n",
    "\n",
    "    # Fill 2nd (or more) columns with partnumbers that share curves\n",
    "    if len(family) == 1:\n",
    "        curveFamilySheet.cell(row=row, column=2).value = family[0]\n",
    "        # print('length of family is 1')\n",
    "    else:\n",
    "        curveFamilySheet.cell(row=row, column=2).value = family[0]\n",
    "        curveFamilySheet.cell(row=row, column=3).value = family[1]\n",
    "        # print(f'family[0]: {family[0]}, family[1]: {family[1]}')"
   ]
  },
  {
   "cell_type": "code",
   "execution_count": 32,
   "metadata": {},
   "outputs": [],
   "source": [
    "# Save changes to excel sheet\n",
    "wb.save(workingCopy)"
   ]
  }
 ],
 "metadata": {
  "interpreter": {
   "hash": "87f84caef9bf4416e38bbc24a276e63f300c10e2c66374eecdd02b2ff25e7d04"
  },
  "kernelspec": {
   "display_name": "Python 3.9.13 64-bit (windows store)",
   "language": "python",
   "name": "python3"
  },
  "language_info": {
   "codemirror_mode": {
    "name": "ipython",
    "version": 3
   },
   "file_extension": ".py",
   "mimetype": "text/x-python",
   "name": "python",
   "nbconvert_exporter": "python",
   "pygments_lexer": "ipython3",
   "version": "3.9.13"
  },
  "orig_nbformat": 4
 },
 "nbformat": 4,
 "nbformat_minor": 2
}
