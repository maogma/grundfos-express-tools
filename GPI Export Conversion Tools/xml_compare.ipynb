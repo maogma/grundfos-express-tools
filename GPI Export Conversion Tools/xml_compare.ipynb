{
 "cells": [
  {
   "cell_type": "code",
   "execution_count": 55,
   "metadata": {},
   "outputs": [],
   "source": [
    "import xml.etree.ElementTree as ET"
   ]
  },
  {
   "cell_type": "code",
   "execution_count": 56,
   "metadata": {},
   "outputs": [],
   "source": [
    "xml_file_generated = r\"C:\\Users\\104092\\OneDrive - Grundfos\\Documents\\2 - AREAS\\22 grundfos-express-tools\\GPI Export Conversion Tools\\filename.xml\"\n",
    "xml_file_skb = r\"C:\\Users\\104092\\OneDrive - Grundfos\\Documents\\1 - PROJECTS\\SPE Integration\\SPE_PumpCurve\\SPE Curve XML SKB Export.xml\""
   ]
  },
  {
   "cell_type": "code",
   "execution_count": 62,
   "metadata": {},
   "outputs": [],
   "source": [
    "def find_dict_differences(xml_python, xml_skb):\n",
    "    if xml_python == xml_skb:\n",
    "        print('Header tags match!')\n",
    "    else:\n",
    "        only_in_xml_python = set(xml_python.keys()) - set(xml_skb.keys())\n",
    "        only_in_xml_skb = set(xml_skb.keys()) - set(xml_python.keys())\n",
    "        different_values = {k: (xml_python[k], xml_skb[k]) for k in xml_python if k in xml_skb and xml_python[k] != xml_skb[k]}\n",
    "\n",
    "        print(f\"Keys only in Python generated xml: {only_in_xml_python}\")\n",
    "        print(f\"Keys only in SKB exported xml: {only_in_xml_skb}\")\n",
    "        print(f\"Keys with different values: {different_values}\")\n",
    "    return"
   ]
  },
  {
   "cell_type": "markdown",
   "metadata": {},
   "source": [
    "### Compare Level 1 tags"
   ]
  },
  {
   "cell_type": "code",
   "execution_count": 57,
   "metadata": {},
   "outputs": [
    {
     "name": "stdout",
     "output_type": "stream",
     "text": [
      "CurveFamily {}\n"
     ]
    }
   ],
   "source": [
    "tree = ET.parse(xml_file_generated)\n",
    "root = tree.getroot()\n",
    "\n",
    "xml_python = {}\n",
    "\n",
    "for child in root:\n",
    "    print(child.tag, child.attrib)\n",
    "    for grandchild in child:\n",
    "        tag = grandchild.tag\n",
    "        text_value = grandchild.text\n",
    "        attrib = grandchild.attrib\n",
    "\n",
    "        if tag != 'pumpCurveCollection':\n",
    "            xml_python.update({tag:text_value})"
   ]
  },
  {
   "cell_type": "code",
   "execution_count": 58,
   "metadata": {},
   "outputs": [
    {
     "name": "stdout",
     "output_type": "stream",
     "text": [
      "CurveFamily {'selectorVersion': '8.0.0', 'skbVersion': '22.5.0.221219.1235'}\n"
     ]
    }
   ],
   "source": [
    "tree2 = ET.parse(xml_file_skb)\n",
    "root2 = tree2.getroot()\n",
    "\n",
    "xml_skb = {}\n",
    "\n",
    "for child in root2:\n",
    "    print(child.tag, child.attrib)\n",
    "    for grandchild in child:\n",
    "        tag = grandchild.tag\n",
    "        text_value = grandchild.text\n",
    "        attrib = grandchild.attrib\n",
    "        # print(f'tag: {tag}, value: {text_value}, attrib: {attrib}')\n",
    "\n",
    "        if tag != 'pumpCurveCollection':\n",
    "            xml_skb.update({tag:text_value})"
   ]
  },
  {
   "cell_type": "code",
   "execution_count": 64,
   "metadata": {},
   "outputs": [
    {
     "name": "stdout",
     "output_type": "stream",
     "text": [
      "Keys only in Python generated xml: set()\n",
      "Keys only in SKB exported xml: {'DataAttributeContainers', 'unitOfMeasureSettings'}\n",
      "Keys with different values: {'interpQty': ('4', '3')}\n"
     ]
    }
   ],
   "source": [
    "find_dict_differences(xml_python, xml_skb)"
   ]
  },
  {
   "cell_type": "markdown",
   "metadata": {},
   "source": [
    "### Compare PumpCurveCollection Tags"
   ]
  },
  {
   "cell_type": "code",
   "execution_count": 68,
   "metadata": {},
   "outputs": [
    {
     "name": "stdout",
     "output_type": "stream",
     "text": [
      "CurveFamily {}\n"
     ]
    }
   ],
   "source": [
    "xml_python = {}\n",
    "\n",
    "for child in root:\n",
    "    print(child.tag, child.attrib)\n",
    "    for grandchild in child:\n",
    "        \n",
    "        for grandchild_sub in grandchild:\n",
    "            tag = grandchild_sub.tag\n",
    "            text_value = grandchild_sub.text\n",
    "            xml_python.update({tag:text_value}) "
   ]
  },
  {
   "cell_type": "code",
   "execution_count": 69,
   "metadata": {},
   "outputs": [
    {
     "name": "stdout",
     "output_type": "stream",
     "text": [
      "CurveFamily {'selectorVersion': '8.0.0', 'skbVersion': '22.5.0.221219.1235'}\n"
     ]
    }
   ],
   "source": [
    "xml_skb = {}\n",
    "for child in root2:\n",
    "    print(child.tag, child.attrib)\n",
    "    for grandchild in child:\n",
    "        \n",
    "        for grandchild_sub in grandchild:\n",
    "            tag = grandchild_sub.tag\n",
    "            text_value = grandchild_sub.text\n",
    "            xml_skb.update({tag:text_value}) "
   ]
  },
  {
   "cell_type": "code",
   "execution_count": 71,
   "metadata": {},
   "outputs": [
    {
     "name": "stdout",
     "output_type": "stream",
     "text": [
      "Keys only in Python generated xml: set()\n",
      "Keys only in SKB exported xml: {'mcsfMinRef', 'curveDesignCode1', 'compatibilityRule', 'measureGroup', 'polesRef', 'sizeListSpeeds50Hz', 'speedVariableCurveMin', 'sizeListSpeeds60Hz', 'mcsfMaxRef', 'curveRevNumber', 'isoEfficiencyValues'}\n",
      "Keys with different values: {'curveNumber': ('92673195', '92673238'), 'speedRef': ('3600.0', '3600'), 'hzRef': ('60.0', '60'), 'speedCurveNominal': ('3600.0', '3600'), 'speedCurveMin': ('1800.0', '1800'), 'speedCurveMax': ('3600.0', '3600'), 'diaImpInc': ('0.01000000000000001', '1.0'), 'speedVariableCurveMax': ('3600.0', '0'), 'optionalCurveType': ('Efficiency', 'Power'), 'flowStartNPSHEnabled': ('false', 'true'), 'flowStartSubmergenceEnabled': ('false', 'true'), 'Impeller': (None, '\\n')}\n"
     ]
    }
   ],
   "source": [
    "find_dict_differences(xml_python, xml_skb)"
   ]
  },
  {
   "cell_type": "markdown",
   "metadata": {},
   "source": [
    "### Compare Impeller Tags"
   ]
  },
  {
   "cell_type": "code",
   "execution_count": 77,
   "metadata": {},
   "outputs": [],
   "source": [
    "xml_python = {}\n",
    "\n",
    "for child in root:\n",
    "    # print(child.tag, child.attrib)\n",
    "    for grandchild in child:\n",
    "        \n",
    "        for grandchild_sub in grandchild:\n",
    "            \n",
    "            for impeller_tag in grandchild_sub:\n",
    "                tag = impeller_tag.tag\n",
    "                text_value = impeller_tag.text\n",
    "                xml_python.update({tag:text_value}) "
   ]
  },
  {
   "cell_type": "code",
   "execution_count": 79,
   "metadata": {},
   "outputs": [],
   "source": [
    "xml_skb = {}\n",
    "\n",
    "for child in root2:\n",
    "    # print(child.tag, child.attrib)\n",
    "    for grandchild in child:\n",
    "        \n",
    "        for grandchild_sub in grandchild:\n",
    "            \n",
    "            for impeller_tag in grandchild_sub:\n",
    "                tag = impeller_tag.tag\n",
    "                text_value = impeller_tag.text\n",
    "                xml_skb.update({tag:text_value}) "
   ]
  },
  {
   "cell_type": "code",
   "execution_count": 81,
   "metadata": {},
   "outputs": [
    {
     "name": "stdout",
     "output_type": "stream",
     "text": [
      "Keys only in Python generated xml: set()\n",
      "Keys only in SKB exported xml: {'flowBEPFixed', 'etaBEPFixed', 'npshDiameterLabelPricebook', 'headDiameterLabelPricebook', 'diameterLabelSelector', 'motorRatingMin', 'diameterLabelPricebook', 'powerDiameterLabelPricebook', 'motorRatingMax'}\n",
      "Keys with different values: {'diameter': ('3600.0', '1800.0'), 'bepFixedEnabled': ('true', 'false'), 'Curve': (None, '\\n')}\n"
     ]
    }
   ],
   "source": [
    "find_dict_differences(xml_python, xml_skb)"
   ]
  }
 ],
 "metadata": {
  "language_info": {
   "name": "python"
  }
 },
 "nbformat": 4,
 "nbformat_minor": 2
}
