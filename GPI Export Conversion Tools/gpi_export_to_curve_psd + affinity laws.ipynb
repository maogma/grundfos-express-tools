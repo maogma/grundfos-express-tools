{
 "cells": [
  {
   "cell_type": "markdown",
   "metadata": {},
   "source": [
    "Notes\n",
    "- Uses Metric Units\n",
    "- Assumes P2 Values are available in GPI Export"
   ]
  },
  {
   "cell_type": "markdown",
   "metadata": {},
   "source": [
    "TO DO\n",
    "- Make code more accepting of both numeric and alphanumeric partnumbers\n",
    "- Add class methods"
   ]
  },
  {
   "cell_type": "markdown",
   "metadata": {},
   "source": [
    "##### Imports, File Setup"
   ]
  },
  {
   "cell_type": "code",
   "execution_count": 2,
   "metadata": {},
   "outputs": [],
   "source": [
    "#Imports\n",
    "import os\n",
    "import pandas as pd\n",
    "import numpy as np\n",
    "from openpyxl import load_workbook\n",
    "import shutil"
   ]
  },
  {
   "cell_type": "code",
   "execution_count": 3,
   "metadata": {},
   "outputs": [],
   "source": [
    "# Dictionaries\n",
    "curve_dict = {\n",
    "    'Flow':'Q',\n",
    "    'Head':'H',\n",
    "    'Power':'P2',\n",
    "    'Efficiency':'Eta2',\n",
    "    'NPSH':'NPSH'\n",
    "}"
   ]
  },
  {
   "cell_type": "code",
   "execution_count": 4,
   "metadata": {},
   "outputs": [],
   "source": [
    "# This is the folder/file with the curve export csv\n",
    "myDir = r\"C:\\Users\\104092\\OneDrive - Grundfos\\Documents\\1 - PROJECTS\\! - HOLD\\SP Integration\\Curve PSD\\Archive\"\n",
    "myFile = \"PumpCurves.csv\"\n",
    "filePath = os.path.join(myDir, myFile)"
   ]
  },
  {
   "cell_type": "markdown",
   "metadata": {},
   "source": [
    "##### Function Definitions and Class Definitions"
   ]
  },
  {
   "cell_type": "code",
   "execution_count": 5,
   "metadata": {},
   "outputs": [],
   "source": [
    "# Affinity Laws function\n",
    "def apply_affinity_laws(row, n2, n1):\n",
    "    N1, N2 = n1, n2\n",
    "    Q2 = row['Q'] * (N2 / N1)\n",
    "    H2 = row['H'] * (N2 / N1)**2\n",
    "    NPSH2 = row['NPSH'] * (N2 / N1)**2\n",
    "    P22 = row['P2'] * (N2 / N1)**3\n",
    "    # P12 = row['P1'] * (N2 / N1)**3\n",
    "    rpm_pump_data = row['RPM(Pump data)']\n",
    "    rpm_curve_nom = row['RPM(Curve nominal)']\n",
    "    return pd.Series([Q2, H2, P22, NPSH2, rpm_pump_data, rpm_curve_nom], index=['Q','H','P2','NPSH', 'RPM(Pump data)','RPM(Curve nominal)'])"
   ]
  },
  {
   "cell_type": "code",
   "execution_count": 85,
   "metadata": {},
   "outputs": [],
   "source": [
    "# Create class to hold each curve by product number/trim\n",
    "class Curve:\n",
    "    # def __init__(self, pumpModel: str, dataframe):\n",
    "    def __init__(self, partNumber: str, dataframe):\n",
    "        # self.name = pumpModel\n",
    "        self.name = partNumber\n",
    "        self.df = dataframe\n",
    "        self.model = dataframe.iloc[0]['Product name']\n",
    "        # self.pn = dataframe.iloc[0]['ProductNumber']\n",
    "        self.frequency = dataframe.iloc[0]['Frequency']\n",
    "        self.phase = dataframe.iloc[0]['Phase']\n",
    "        self.trims = self.df['RPM(Curve nominal)'].unique().tolist()\n",
    "        self.trim_curves = {} \n",
    "\n",
    "\n",
    "    def __repr__(self) -> str:\n",
    "        return f\"Pump Model(name={self.name}, dataframe=\\n{self.df})\"\n",
    "\n",
    "\n",
    "    def return_xy_points(self, curveType:str):\n",
    "        '''\n",
    "        Returns 2 lists: 1 - flow values, 2 - Head or Power or NPSH\n",
    "        \n",
    "        Parameters:\n",
    "        curveType (str): The list of y-values. Available options are:\n",
    "            - 'Head'\n",
    "            - 'Power'\n",
    "            - 'NPSH'\n",
    "        \n",
    "        Raises:\n",
    "        ValueError: If the action is not one of the available options.\n",
    "        '''\n",
    "        curve_types = ['Head','Power','NPSH']\n",
    "\n",
    "        if curveType not in curve_types:\n",
    "            raise ValueError(f\"Invalid Curve Type. Available options are: {', '.join(curve_types)}\")\n",
    "        else:\n",
    "            x_values = self.df['Q'].tolist()\n",
    "            y_values = self.df[curve_dict[curveType]].tolist()\n",
    "            return x_values, y_values\n",
    "    \n",
    "\n",
    "    def create_grouped_trim_curves(self):\n",
    "        '''Group entire curve df by the trim/speed column'''\n",
    "        grouped = self.df.groupby('RPM(Curve nominal)')\n",
    "        for group_trim, trim_df in grouped:\n",
    "            self.trim_curves[group_trim] = trim_df[['Q','H','P2','NPSH','RPM(Pump data)','RPM(Curve nominal)']]\n",
    "\n",
    "\n",
    "    def create_new_trim_df(self, n2):\n",
    "        \"\"\"\n",
    "        Takes in speed n2 and applies affinity laws to max available existing trim to calculate new curve data\n",
    "\n",
    "        Output: Adds a dataframe to self.trim_curves dictionary\n",
    "\n",
    "        \"\"\"\n",
    "        # Finds max existing trim and uses that as n1\n",
    "        n1 = self.max_trim\n",
    "        df1 = self.trim_curves[n1]\n",
    "\n",
    "        # Apply the affinity laws to each row of df1 to create df2\n",
    "        df2 = df1.apply(apply_affinity_laws, axis=1, args=(n2,n1))\n",
    "\n",
    "        # Add new dataframe to dictionary trim_curves\n",
    "        self.trim_curves.update({n2:df2}) \n",
    "\n",
    "        # Update Trims Property\n",
    "        self.trims = list(self.trim_curves.keys())\n",
    "\n",
    "\n",
    "    @property\n",
    "    def max_trim(self):\n",
    "        return max(self.trims)"
   ]
  },
  {
   "cell_type": "markdown",
   "metadata": {},
   "source": [
    "##### Create objects from GPI Curve Export"
   ]
  },
  {
   "cell_type": "code",
   "execution_count": null,
   "metadata": {},
   "outputs": [],
   "source": [
    "# This separates the GPI curve export by groups according to ProductNumber\n",
    "df = pd.read_csv(filePath, sep=\";\", index_col=False, skip_blank_lines=False) # FOR SP\n",
    "df = df.replace(',','.', regex=True)\n",
    "\n",
    "# Drop NaN rows before grouping\n",
    "df_non_nan = df.dropna(how='all')\n",
    "\n",
    "# Forward fill productname and curve nominal columns for grouping \n",
    "df_non_nan['ProductNumber'] = df_non_nan['ProductNumber'].ffill()\n",
    "df_non_nan['RPM(Curve nominal)'] = df_non_nan['RPM(Curve nominal)'].ffill()\n",
    "df_non_nan['RPM(Pump data)'] = df_non_nan['RPM(Pump data)'].ffill()\n",
    "\n",
    "# Group by the pump model column\n",
    "grouped = df_non_nan.groupby('ProductNumber')\n",
    "\n",
    "# Make a model from each group\n",
    "group_objects = {}   # Structure: group_objects (dict) where each key = partnumber, value = Curve Object \n",
    "\n",
    "for partnumber, group_df in grouped:\n",
    "    # print(f'pumpModel: {pumpModel}')\n",
    "    # print(group_df)\n",
    "    group_object = Curve(partNumber=partnumber, dataframe=group_df)\n",
    "    group_object.create_grouped_trim_curves()\n",
    "    group_objects[(f'{partnumber}')] = group_object\n",
    "    "
   ]
  },
  {
   "cell_type": "markdown",
   "metadata": {},
   "source": [
    "##### Creates list of matching curves (Currently only for single speed/trim) -> make this a class method\n"
   ]
  },
  {
   "cell_type": "code",
   "execution_count": 103,
   "metadata": {},
   "outputs": [],
   "source": [
    "def find_duplicate_curveSets(dict_pn_curveDataframe):  \n",
    "    \"\"\" Create list of PNs that share curve data \"\"\"\n",
    "    curveDataCopy = dict_pn_curveDataframe.copy()\n",
    "    listOfLists = []\n",
    "    \n",
    "    for _, eachDF in dict_pn_curveDataframe.items():  \n",
    "        listOfPNs = []\n",
    "        for key, value in curveDataCopy.items():\n",
    "            if value.equals(eachDF):\n",
    "                listOfPNs.append(key)\n",
    "        \n",
    "        if listOfPNs not in listOfLists:\n",
    "            listOfLists.append(listOfPNs)\n",
    "    \n",
    "    return listOfLists\n",
    "    "
   ]
  },
  {
   "cell_type": "code",
   "execution_count": 105,
   "metadata": {},
   "outputs": [],
   "source": [
    "pn_curve_dict = {}\n",
    "models = []\n",
    "\n",
    "for partnumber,CurveObj in group_objects.items():\n",
    "    speeds = list(CurveObj.trim_curves.keys())[0]\n",
    "    models.append(CurveObj.model)\n",
    "    curve_df = CurveObj.trim_curves[speeds].reset_index(drop=True)\n",
    "    pn_curve_dict.update({partnumber:curve_df})\n",
    "\n",
    "matches_list = find_duplicate_curveSets(pn_curve_dict)\n"
   ]
  },
  {
   "cell_type": "code",
   "execution_count": 118,
   "metadata": {},
   "outputs": [
    {
     "name": "stdout",
     "output_type": "stream",
     "text": [
      "550\n"
     ]
    }
   ],
   "source": [
    "models_set = set(models)\n",
    "# print(len(models_set))"
   ]
  },
  {
   "cell_type": "code",
   "execution_count": 116,
   "metadata": {},
   "outputs": [
    {
     "name": "stdout",
     "output_type": "stream",
     "text": [
      "Model: 16S05-5, Partnumber: ['10014205', '10019205', '10154505', '10159505']\n",
      "Model: 16S05-5, Partnumber: ['10014205', '10019205', '10154505', '10159505']\n",
      "Model: 16S05-5, Partnumber: ['10014205', '10019205', '10154505', '10159505']\n",
      "Model: 16S05-5, Partnumber: ['10014205', '10019205', '10154505', '10159505']\n",
      "Model: 16S20-18, Partnumber: ['10014518', '10153018', '10153618']\n",
      "Model: 16S20-18, Partnumber: ['10014518', '10153018', '10153618']\n",
      "Model: 16S20-18, Partnumber: ['10014518', '10153018', '10153618']\n",
      "Model: 16S30-24, Partnumber: ['10014524', '10153024', '10153624']\n",
      "Model: 16S30-24, Partnumber: ['10014524', '10153024', '10153624']\n",
      "Model: 16S30-24, Partnumber: ['10014524', '10153024', '10153624']\n",
      "Model: 16S50-38, Partnumber: ['10114538', '10153038', '10153638']\n",
      "Model: 16S50-38, Partnumber: ['10114538', '10153038', '10153638']\n",
      "Model: 16S50-38, Partnumber: ['10114538', '10153038', '10153638']\n",
      "Model: 16S15-14, Partnumber: ['10153014', '10153614', '10154514', '10159514']\n",
      "Model: 16S15-14, Partnumber: ['10153014', '10153614', '10154514', '10159514']\n",
      "Model: 16S15-14, Partnumber: ['10153014', '10153614', '10154514', '10159514']\n",
      "Model: 16S15-14, Partnumber: ['10153014', '10153614', '10154514', '10159514']\n",
      "Model: 16S07-8, Partnumber: ['10154508', '10159508']\n",
      "Model: 16S07-8, Partnumber: ['10154508', '10159508']\n",
      "Model: 16S10-10, Partnumber: ['10154510', '10159510']\n",
      "Model: 16S10-10, Partnumber: ['10154510', '10159510']\n",
      "Model: 16S75-56, Partnumber: ['10313056', '10313656']\n",
      "Model: 16S75-56, Partnumber: ['10313056', '10313656']\n",
      "Model: 85S15-1, Partnumber: ['12B63001', '12B63601']\n",
      "Model: 85S15-1, Partnumber: ['12B63001', '12B63601']\n",
      "Model: 85S75-5, Partnumber: ['12B63005', '12B63605']\n",
      "Model: 85S75-5, Partnumber: ['12B63005', '12B63605']\n",
      "Model: 85S75-6, Partnumber: ['12B63006', '12B63606']\n",
      "Model: 85S75-6, Partnumber: ['12B63006', '12B63606']\n",
      "Model: 150S20-1, Partnumber: ['13B63001', '13B63601']\n",
      "Model: 150S20-1, Partnumber: ['13B63001', '13B63601']\n",
      "Model: 150S75-3, Partnumber: ['13B63003', '13B63603']\n",
      "Model: 150S75-3, Partnumber: ['13B63003', '13B63603']\n",
      "Model: 150S75-4, Partnumber: ['13B63004', '13B63604']\n",
      "Model: 150S75-4, Partnumber: ['13B63004', '13B63604']\n",
      "Model: 300S75-2, Partnumber: ['14B73002', '14B73502']\n",
      "Model: 300S75-2, Partnumber: ['14B73002', '14B73502']\n",
      "Model: 230S50-2-AB, Partnumber: ['15B700E2', '15B730E2', '15B736E2']\n",
      "Model: 230S50-2-AB, Partnumber: ['15B700E2', '15B730E2', '15B736E2']\n",
      "Model: 230S50-2-AB, Partnumber: ['15B700E2', '15B730E2', '15B736E2']\n",
      "Model: 230S75-2, Partnumber: ['15B73002', '15B73602']\n",
      "Model: 230S75-2, Partnumber: ['15B73002', '15B73602']\n",
      "Model: 230S20-1-B, Partnumber: ['15B730C1', '15B736C1']\n",
      "Model: 230S20-1-B, Partnumber: ['15B730C1', '15B736C1']\n",
      "Model: 230S75-3-BB, Partnumber: ['15B730D3', '15B736D3']\n",
      "Model: 230S75-3-BB, Partnumber: ['15B730D3', '15B736D3']\n",
      "Model: 385S100-2-AB, Partnumber: ['16B730E2', '16B736E2']\n",
      "Model: 385S100-2-AB, Partnumber: ['16B730E2', '16B736E2']\n",
      "Model: 7S05-11, Partnumber: ['3014211', '3019211', '31545115', '31595115']\n",
      "Model: 7S05-11, Partnumber: ['3014211', '3019211', '31545115', '31595115']\n",
      "Model: 7S05-11, Partnumber: ['3014211', '3019211', '31545115', '31595115']\n",
      "Model: 7S05-11, Partnumber: ['3014211', '3019211', '31545115', '31595115']\n",
      "Model: 7S15-26, Partnumber: ['31530265', '31536265', '31545265', '31595265']\n",
      "Model: 7S15-26, Partnumber: ['31530265', '31536265', '31545265', '31595265']\n",
      "Model: 7S15-26, Partnumber: ['31530265', '31536265', '31545265', '31595265']\n",
      "Model: 7S15-26, Partnumber: ['31530265', '31536265', '31545265', '31595265']\n",
      "Model: 7S05-8, Partnumber: ['31545085', '31595085']\n",
      "Model: 7S05-8, Partnumber: ['31545085', '31595085']\n",
      "Model: 7S07-15, Partnumber: ['31545155', '31595155']\n",
      "Model: 7S07-15, Partnumber: ['31545155', '31595155']\n",
      "Model: 7S10-19, Partnumber: ['31545195', '31595195']\n",
      "Model: 7S10-19, Partnumber: ['31545195', '31595195']\n",
      "Model: 25S05-3, Partnumber: ['5014203', '5019203', '51545035', '51595035']\n",
      "Model: 25S05-3, Partnumber: ['5014203', '5019203', '51545035', '51595035']\n",
      "Model: 25S05-3, Partnumber: ['5014203', '5019203', '51545035', '51595035']\n",
      "Model: 25S05-3, Partnumber: ['5014203', '5019203', '51545035', '51595035']\n",
      "Model: 25S20-11, Partnumber: ['5014511', '51530115', '51536115']\n",
      "Model: 25S20-11, Partnumber: ['5014511', '51530115', '51536115']\n",
      "Model: 25S20-11, Partnumber: ['5014511', '51530115', '51536115']\n",
      "Model: 25S30-15, Partnumber: ['5014515', '51530155', '51536155']\n",
      "Model: 25S30-15, Partnumber: ['5014515', '51530155', '51536155']\n",
      "Model: 25S30-15, Partnumber: ['5014515', '51530155', '51536155']\n",
      "Model: 25S50-26, Partnumber: ['5014526', '51530265', '51536265']\n",
      "Model: 25S50-26, Partnumber: ['5014526', '51530265', '51536265']\n",
      "Model: 25S50-26, Partnumber: ['5014526', '51530265', '51536265']\n",
      "Model: 25S75-39, Partnumber: ['5113039', '5113639']\n",
      "Model: 25S75-39, Partnumber: ['5113039', '5113639']\n",
      "Model: 25S15-9, Partnumber: ['51530095', '51536095', '51545095', '51595095']\n",
      "Model: 25S15-9, Partnumber: ['51530095', '51536095', '51545095', '51595095']\n",
      "Model: 25S15-9, Partnumber: ['51530095', '51536095', '51545095', '51595095']\n",
      "Model: 25S15-9, Partnumber: ['51530095', '51536095', '51545095', '51595095']\n",
      "Model: 25S07-5, Partnumber: ['51545055', '51595055']\n",
      "Model: 25S07-5, Partnumber: ['51545055', '51595055']\n",
      "Model: 25S10-7, Partnumber: ['51545075', '51595075']\n",
      "Model: 25S10-7, Partnumber: ['51545075', '51595075']\n",
      "Model: 5S05-13, Partnumber: ['8014213', '8019213', '81545135', '81595135']\n",
      "Model: 5S05-13, Partnumber: ['8014213', '8019213', '81545135', '81595135']\n",
      "Model: 5S05-13, Partnumber: ['8014213', '8019213', '81545135', '81595135']\n",
      "Model: 5S05-13, Partnumber: ['8014213', '8019213', '81545135', '81595135']\n",
      "Model: 5S20-39, Partnumber: ['8114539', '81530395', '81536395']\n",
      "Model: 5S20-39, Partnumber: ['8114539', '81530395', '81536395']\n",
      "Model: 5S20-39, Partnumber: ['8114539', '81530395', '81536395']\n",
      "Model: 5S30-48, Partnumber: ['8114548', '81530485', '81536485']\n",
      "Model: 5S30-48, Partnumber: ['8114548', '81530485', '81536485']\n",
      "Model: 5S30-48, Partnumber: ['8114548', '81530485', '81536485']\n",
      "Model: 5S15-26, Partnumber: ['81530265', '81536265', '81545265', '81595265']\n",
      "Model: 5S15-26, Partnumber: ['81530265', '81536265', '81545265', '81595265']\n",
      "Model: 5S15-26, Partnumber: ['81530265', '81536265', '81545265', '81595265']\n",
      "Model: 5S15-26, Partnumber: ['81530265', '81536265', '81545265', '81595265']\n",
      "Model: 5S15-31, Partnumber: ['81530315', '81536315', '81545315', '81595315']\n",
      "Model: 5S15-31, Partnumber: ['81530315', '81536315', '81545315', '81595315']\n",
      "Model: 5S15-31, Partnumber: ['81530315', '81536315', '81545315', '81595315']\n",
      "Model: 5S15-31, Partnumber: ['81530315', '81536315', '81545315', '81595315']\n",
      "Model: 5S05-9, Partnumber: ['81545095', '81595095']\n",
      "Model: 5S05-9, Partnumber: ['81545095', '81595095']\n",
      "Model: 5S07-18, Partnumber: ['81545185', '81595185']\n",
      "Model: 5S07-18, Partnumber: ['81545185', '81595185']\n",
      "Model: 5S10-22, Partnumber: ['81545225', '81595225']\n",
      "Model: 5S10-22, Partnumber: ['81545225', '81595225']\n",
      "Model: 10S05-9, Partnumber: ['9014209', '9019209', '91545095', '91595095']\n",
      "Model: 10S05-9, Partnumber: ['9014209', '9019209', '91545095', '91595095']\n",
      "Model: 10S05-9, Partnumber: ['9014209', '9019209', '91545095', '91595095']\n",
      "Model: 10S05-9, Partnumber: ['9014209', '9019209', '91545095', '91595095']\n",
      "Model: 10S20-27, Partnumber: ['9014527', '91530275', '91536275']\n",
      "Model: 10S20-27, Partnumber: ['9014527', '91530275', '91536275']\n",
      "Model: 10S20-27, Partnumber: ['9014527', '91530275', '91536275']\n",
      "Model: 10S30-34, Partnumber: ['9114534', '91530345', '91536345']\n",
      "Model: 10S30-34, Partnumber: ['9114534', '91530345', '91536345']\n",
      "Model: 10S30-34, Partnumber: ['9114534', '91530345', '91536345']\n",
      "Model: 10S50-48, Partnumber: ['9114548', '91530485', '91536485']\n",
      "Model: 10S50-48, Partnumber: ['9114548', '91530485', '91536485']\n",
      "Model: 10S50-48, Partnumber: ['9114548', '91530485', '91536485']\n",
      "Model: 10S15-21, Partnumber: ['91530215', '91536215', '91545215', '91595215']\n",
      "Model: 10S15-21, Partnumber: ['91530215', '91536215', '91545215', '91595215']\n",
      "Model: 10S15-21, Partnumber: ['91530215', '91536215', '91545215', '91595215']\n",
      "Model: 10S15-21, Partnumber: ['91530215', '91536215', '91545215', '91595215']\n",
      "Model: 10S50-58, Partnumber: ['91530585', '91536585', '9314558']\n",
      "Model: 10S50-58, Partnumber: ['91530585', '91536585', '9314558']\n",
      "Model: 10S50-58, Partnumber: ['91530585', '91536585', '9314558']\n",
      "Model: 10S05-6, Partnumber: ['91545065', '91595065']\n",
      "Model: 10S05-6, Partnumber: ['91545065', '91595065']\n",
      "Model: 10S07-12, Partnumber: ['91545125', '91595125']\n",
      "Model: 10S07-12, Partnumber: ['91545125', '91595125']\n",
      "Model: 10S10-15, Partnumber: ['91545155', '91595155']\n",
      "Model: 10S10-15, Partnumber: ['91545155', '91595155']\n",
      "Model: 35S07-3, Partnumber: ['98924412', '98924547']\n",
      "Model: 35S07-3, Partnumber: ['98924412', '98924547']\n",
      "Model: 35S10-4, Partnumber: ['98924413', '98924548']\n",
      "Model: 35S10-4, Partnumber: ['98924413', '98924548']\n",
      "Model: 35S15-6, Partnumber: ['98924414', '98924549']\n",
      "Model: 35S15-6, Partnumber: ['98924414', '98924549']\n",
      "Model: 35S20-8, Partnumber: ['98924415', '98924550']\n",
      "Model: 35S20-8, Partnumber: ['98924415', '98924550']\n",
      "Model: 35S75-22, Partnumber: ['98924419', '98924564']\n",
      "Model: 35S75-22, Partnumber: ['98924419', '98924564']\n",
      "Model: 35S75-25, Partnumber: ['98924420', '98924565']\n",
      "Model: 35S75-25, Partnumber: ['98924420', '98924565']\n",
      "Model: 35S75-28, Partnumber: ['98924421', '98924566']\n",
      "Model: 35S75-28, Partnumber: ['98924421', '98924566']\n",
      "Model: 45S10-3, Partnumber: ['98924437', '98924586']\n",
      "Model: 45S10-3, Partnumber: ['98924437', '98924586']\n",
      "Model: 45S15-4, Partnumber: ['98924438', '98924587']\n",
      "Model: 45S15-4, Partnumber: ['98924438', '98924587']\n",
      "Model: 45S20-5, Partnumber: ['98924439', '98924588']\n",
      "Model: 45S20-5, Partnumber: ['98924439', '98924588']\n",
      "Model: 45S75-15, Partnumber: ['98924443', '98924592']\n",
      "Model: 45S75-15, Partnumber: ['98924443', '98924592']\n",
      "Model: 45S75-18, Partnumber: ['98924444', '98924593']\n",
      "Model: 45S75-18, Partnumber: ['98924444', '98924593']\n",
      "Model: 62S07-2, Partnumber: ['98924463', '98924612']\n",
      "Model: 62S07-2, Partnumber: ['98924463', '98924612']\n",
      "Model: 62S10-3, Partnumber: ['98924464', '98924613']\n",
      "Model: 62S10-3, Partnumber: ['98924464', '98924613']\n",
      "Model: 62S15-4, Partnumber: ['98924465', '98924614']\n",
      "Model: 62S15-4, Partnumber: ['98924465', '98924614']\n",
      "Model: 62S20-5, Partnumber: ['98924466', '98924615']\n",
      "Model: 62S20-5, Partnumber: ['98924466', '98924615']\n",
      "Model: 62S75-14, Partnumber: ['98924470', '98924620']\n",
      "Model: 62S75-14, Partnumber: ['98924470', '98924620']\n",
      "Model: 62S75-17, Partnumber: ['98924471', '98924621']\n",
      "Model: 62S75-17, Partnumber: ['98924471', '98924621']\n",
      "Model: 77S07-2, Partnumber: ['98924477', '98924630']\n",
      "Model: 77S07-2, Partnumber: ['98924477', '98924630']\n",
      "Model: 77S15-3, Partnumber: ['98924478', '98924631']\n",
      "Model: 77S15-3, Partnumber: ['98924478', '98924631']\n",
      "Model: 77S20-4, Partnumber: ['98924479', '98924632']\n",
      "Model: 77S20-4, Partnumber: ['98924479', '98924632']\n",
      "Model: 77S75-12, Partnumber: ['98924483', '98924636']\n",
      "Model: 77S75-12, Partnumber: ['98924483', '98924636']\n",
      "Model: 77S75-15, Partnumber: ['98924484', '98924637']\n",
      "Model: 77S75-15, Partnumber: ['98924484', '98924637']\n"
     ]
    }
   ],
   "source": [
    "for item in matches_list:\n",
    "    if len(item) != 1:\n",
    "        # Find model corresponding to each partnumber\n",
    "        for eachPN in item:\n",
    "            print(f'Model: {group_objects[eachPN].model}, Partnumber: {item}')\n",
    "    "
   ]
  },
  {
   "cell_type": "markdown",
   "metadata": {},
   "source": [
    "##### Creates new speed curve data using affinity laws -> Class method?"
   ]
  },
  {
   "cell_type": "code",
   "execution_count": 73,
   "metadata": {},
   "outputs": [],
   "source": [
    "# # Iterate through list of models and and create new speed dataframes at n2\n",
    "# n2 = 1800\n",
    "\n",
    "# for object_name in group_objects:\n",
    "#     model_object = group_objects[object_name]\n",
    "#     model_object.create_new_trim_df(n2)"
   ]
  },
  {
   "cell_type": "markdown",
   "metadata": {},
   "source": [
    "#### Write to PSD"
   ]
  },
  {
   "cell_type": "code",
   "execution_count": 74,
   "metadata": {},
   "outputs": [],
   "source": [
    "# This points to the curve PSD template to be used\n",
    "templateDir = r\"C:\\Users\\104092\\OneDrive - Grundfos\\Documents\\3 - RESOURCES\\32 GXS\"\n",
    "template = \"SKB Blank Curve PSD - Power_Metric.xlsx\"\n",
    "template = os.path.join(templateDir, template)\n",
    "\n",
    "# Create a local working copy to leave template unmodified\n",
    "output_psd_file = 'SP - Curve PSD.xlsx'\n",
    "workingCopy = shutil.copyfile(template, output_psd_file)\n",
    "wb = load_workbook(workingCopy)      "
   ]
  },
  {
   "cell_type": "markdown",
   "metadata": {},
   "source": [
    "##### Add 1 curve tab to workbook for every unique curve found (avoids duplicating data in SKB)\n"
   ]
  },
  {
   "cell_type": "code",
   "execution_count": 75,
   "metadata": {},
   "outputs": [],
   "source": [
    "for object_name in group_objects:\n",
    "    curve_pn = str(group_objects[object_name].pn)\n",
    "    wb.copy_worksheet(wb['NEW']).title = curve_pn # Creates and renames blank PSD Tab as template for each new curve tab"
   ]
  },
  {
   "cell_type": "markdown",
   "metadata": {},
   "source": [
    "##### Iterate through list of unique curve names, and populate the corresponding workbook tab\n"
   ]
  },
  {
   "cell_type": "code",
   "execution_count": 76,
   "metadata": {},
   "outputs": [],
   "source": [
    "# Fill PSD \n",
    "for object_name in group_objects:\n",
    "    curve_pn = str(group_objects[object_name].pn)\n",
    "    curveSheet = wb[curve_pn]   \n",
    "    # Fill Curve, power/eff, NPSH data\n",
    "    baseCell = 'D7' \n",
    "    first_row_offset = 3\n",
    "\n",
    "    # Fill Speed or trim in column A\n",
    "    trims = group_objects[object_name].trims\n",
    "    for index, eachSpeedTrim in enumerate(trims):\n",
    "        cell_name = \"{}{}\".format('A', 10+index)\n",
    "        curveSheet[cell_name].value = int(eachSpeedTrim)\n",
    "        # print(f'For PN: {uniqueCurve[0]} -> cell: {cell_name} should have value: {int(eachSpeed)}. It currently has: {curveSheet[cell_name].value}')\n",
    "\n",
    "        curve_data_df = group_objects[object_name].trim_curves[eachSpeedTrim].reset_index()\n",
    "        for key, value in curve_data_df.iterrows():\n",
    "            # print(f'first_row_offset {first_row_offset}, key: {key + 21*index}')\n",
    "            curveSheet[baseCell].offset(first_row_offset + key, 0 + 21*index).value = value['Q']\n",
    "            curveSheet[baseCell].offset(first_row_offset + key, 1 + 21*index).value = value['H']\n",
    "            curveSheet[baseCell].offset(first_row_offset + key, 7 + 21*index).value = value['Q']\n",
    "            # curveSheet[baseCell].offset(first_row_offset + key, 8 + 21*index).value = value['Eta1']\n",
    "            curveSheet[baseCell].offset(first_row_offset + key, 8 + 21*index).value = value['P2']\n",
    "            curveSheet[baseCell].offset(first_row_offset + key,14 + 21*index).value = value['Q']\n",
    "            curveSheet[baseCell].offset(first_row_offset + key,15 + 21*index).value = value['NPSH']"
   ]
  },
  {
   "cell_type": "markdown",
   "metadata": {},
   "source": [
    "##### Fill Curve Header Tab"
   ]
  },
  {
   "cell_type": "code",
   "execution_count": 77,
   "metadata": {},
   "outputs": [],
   "source": [
    "newPumpFamilyName = \"SP\"\n",
    "sheet = wb[\"Curve Header Data\"]\n",
    "sheet['B7'] = newPumpFamilyName\n",
    "baseCell = 'A1' \n",
    "first_row_offset = 10\n",
    "\n",
    "for index, object_name in enumerate(group_objects):\n",
    "    df = group_objects[object_name].df\n",
    "    max_speed = max(group_objects[object_name].trims)\n",
    "    min_speed = min(group_objects[object_name].trims)\n",
    "            \n",
    "    sheet[baseCell].offset((first_row_offset + index), 0).value = str(group_objects[object_name].pn)\n",
    "    sheet[baseCell].offset((first_row_offset + index), 2).value = df.iloc[0]['RPM(Pump data)']\n",
    "    # sheet[baseCell].offset((first_row_offset + index), 3).value = group_objects[object_name].poles\n",
    "    sheet[baseCell].offset((first_row_offset + index), 4).value = group_objects[object_name].frequency\n",
    "    sheet[baseCell].offset((first_row_offset + index), 6).value = df.iloc[0]['RPM(Curve nominal)']\n",
    "    sheet[baseCell].offset((first_row_offset + index), 7).value = min_speed\n",
    "    sheet[baseCell].offset((first_row_offset + index), 8).value = max_speed\n",
    "    sheet[baseCell].offset((first_row_offset + index), 21).value = min_speed"
   ]
  },
  {
   "cell_type": "code",
   "execution_count": 78,
   "metadata": {},
   "outputs": [],
   "source": [
    "wb.save(workingCopy)"
   ]
  }
 ],
 "metadata": {
  "interpreter": {
   "hash": "87f84caef9bf4416e38bbc24a276e63f300c10e2c66374eecdd02b2ff25e7d04"
  },
  "kernelspec": {
   "display_name": "Python 3.9.13 64-bit (windows store)",
   "language": "python",
   "name": "python3"
  },
  "language_info": {
   "codemirror_mode": {
    "name": "ipython",
    "version": 3
   },
   "file_extension": ".py",
   "mimetype": "text/x-python",
   "name": "python",
   "nbconvert_exporter": "python",
   "pygments_lexer": "ipython3",
   "version": "3.9.13"
  },
  "orig_nbformat": 4
 },
 "nbformat": 4,
 "nbformat_minor": 2
}
