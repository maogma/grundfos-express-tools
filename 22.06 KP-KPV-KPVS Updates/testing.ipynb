{
 "cells": [
  {
   "cell_type": "code",
   "execution_count": 1,
   "metadata": {},
   "outputs": [
    {
     "data": {
      "text/plain": [
       "'\\nNEED TO BLOCK COMPONENTS AND PHANTOMS SINCE THE 1020 3/4 IS NOW THE\\n1020 5/6\\nNEED TO UPDATE GXS WITH NEW NUMBERS AND UPDATED PUMP DESCRIPTION\\n\\nTHERE ARE 4 DIFFERENCES WITH THE CASE CHANGE\\n1- NO PERFORMANCE CHANGE\\n2- APPEARNACE CHANGE BECAUSE OF THE ADDED RIBS WHICH CHANGED 2 OTHER\\nCOMPONENTS\\n3- 4 LONGER CAPSCREWS\\n4- SLIGHT CHANGE TO THE GASKET WITH THE SHIFT IN THE BOLT HOLES\\nNO CHANGE TO EXISTING KITS- REVISIONS WERE MADE TO THESE BOMS\\n\\n1020 CASING (BUY COMPONENT) CHANGE KP\\n125# 91840054 CHANGED TO 99717392       # Not Found\\n250# 91840056 CHANGED TO 99717485       # Not Found\\n\\n1020 PHANTOM CHANGE\\n250# 98441969 CHANGED TO 92758523       # Not Found\\n125# 96698939 CHANGED TO 92758528       # in KPbom.xlsx \\n\\nHARDWARE PHANTOM CHANGED\\nKP\\nGRADE 5 96698968 CHANGE TO 92758121     # in KPbom.xlsx\\nGRADE 8 96768950 CHANGE TO 92758767     # in KPbom.xlsx\\nKPVS\\nGRADE 5 99413027 CHANGE TO 92758120     # Not Found\\nGRADE 8 NEW NUMBER         92758769     # ??\\n\\nBOMS THAT HAVE BEEN CHANGED ARE IN THE FILE\\n'"
      ]
     },
     "execution_count": 1,
     "metadata": {},
     "output_type": "execute_result"
    }
   ],
   "source": [
    "\"\"\"\n",
    "NEED TO BLOCK COMPONENTS AND PHANTOMS SINCE THE 1020 3/4 IS NOW THE\n",
    "1020 5/6\n",
    "NEED TO UPDATE GXS WITH NEW NUMBERS AND UPDATED PUMP DESCRIPTION\n",
    "\n",
    "THERE ARE 4 DIFFERENCES WITH THE CASE CHANGE\n",
    "1- NO PERFORMANCE CHANGE\n",
    "2- APPEARNACE CHANGE BECAUSE OF THE ADDED RIBS WHICH CHANGED 2 OTHER\n",
    "COMPONENTS\n",
    "3- 4 LONGER CAPSCREWS\n",
    "4- SLIGHT CHANGE TO THE GASKET WITH THE SHIFT IN THE BOLT HOLES\n",
    "NO CHANGE TO EXISTING KITS- REVISIONS WERE MADE TO THESE BOMS\n",
    "\n",
    "1020 CASING (BUY COMPONENT) CHANGE KP\n",
    "125# 91840054 CHANGED TO 99717392       # Not Found\n",
    "250# 91840056 CHANGED TO 99717485       # Not Found\n",
    "\n",
    "1020 PHANTOM CHANGE\n",
    "250# 98441969 CHANGED TO 92758523       # Not Found\n",
    "125# 96698939 CHANGED TO 92758528       # in KPbom.xlsx \n",
    "\n",
    "HARDWARE PHANTOM CHANGED\n",
    "KP\n",
    "GRADE 5 96698968 CHANGE TO 92758121     # in KPbom.xlsx\n",
    "GRADE 8 96768950 CHANGE TO 92758767     # in KPbom.xlsx\n",
    "KPVS\n",
    "GRADE 5 99413027 CHANGE TO 92758120     # Not Found\n",
    "GRADE 8 NEW NUMBER         92758769     # ??\n",
    "\n",
    "BOMS THAT HAVE BEEN CHANGED ARE IN THE FILE\n",
    "\"\"\""
   ]
  },
  {
   "cell_type": "code",
   "execution_count": 2,
   "metadata": {},
   "outputs": [],
   "source": [
    "import os\n",
    "import openpyxl\n",
    "import pandas as pd"
   ]
  },
  {
   "cell_type": "code",
   "execution_count": 3,
   "metadata": {},
   "outputs": [],
   "source": [
    "partnumbers_to_change = {\n",
    "    'BOM': ['91840054', '91840056', '98441969', '96698939', '96698968', '96768950', '99413027'],\n",
    "    'Model' : ['1020-3/4','1020-3_4','Desc-1020-3_4-KP_4','Desc-1020-3_4-KP_3']\n",
    "}\n",
    "\n",
    "replacements = {\n",
    "    'BOM' : ['99717392','99717485','92758523','92758528','92758121','92758767','92758120'],\n",
    "    'Model': ['1020-5/6','1020-5_6','Desc-1020-5_6-KP_6','Desc-1020-5_6-KP_5']\n",
    "}"
   ]
  },
  {
   "cell_type": "code",
   "execution_count": 4,
   "metadata": {},
   "outputs": [
    {
     "name": "stderr",
     "output_type": "stream",
     "text": [
      "c:\\Programs\\Python\\Python3102\\lib\\site-packages\\openpyxl\\reader\\drawings.py:29: UserWarning: DrawingML support is incomplete and limited to charts and images only. Shapes and drawings will be lost.\n",
      "  warn(\"DrawingML support is incomplete and limited to charts and images only. Shapes and drawings will be lost.\")\n",
      "c:\\Programs\\Python\\Python3102\\lib\\site-packages\\openpyxl\\reader\\drawings.py:29: UserWarning: DrawingML support is incomplete and limited to charts and images only. Shapes and drawings will be lost.\n",
      "  warn(\"DrawingML support is incomplete and limited to charts and images only. Shapes and drawings will be lost.\")\n"
     ]
    },
    {
     "name": "stdout",
     "output_type": "stream",
     "text": [
      "original: 96698939 exists in PSD: KPbom.xlsx, sheet: Case\n",
      "original: 96698968 exists in PSD: KPbom.xlsx, sheet: Hardware\n",
      "original: 96768950 exists in PSD: KPbom.xlsx, sheet: Hardware\n"
     ]
    }
   ],
   "source": [
    "myDir = r'C:\\Users\\104092\\OneDrive - Grundfos\\Documents\\20-29 Areas\\22 grundfos-express-tools\\22.06 KP-KPV-KPVS Updates\\PSDs'\n",
    "\n",
    "for root, dirs, files in os.walk(myDir):\n",
    "    for filename in files:\n",
    "        filePath = os.path.join(myDir, filename)\n",
    "        \n",
    "        wb = openpyxl.load_workbook(filePath)\n",
    "\n",
    "        for sheet in wb.worksheets:\n",
    "            sheetname = sheet.title\n",
    "            # print(f'Current Sheet: {sheetname}')\n",
    "\n",
    "            if sheetname == 'Case':\n",
    "\n",
    "                # Only use PSDs with valid Export Setup for IQ\n",
    "                for cell in sheet['A1':'A8']:\n",
    "                    if cell[0].value == '[START]':\n",
    "                        # Find # rows in header, in case they are different per each tab.\n",
    "                        data_start_row = cell[0].row\n",
    "                                \n",
    "                        # Read in Excel sheet to a dataframe\n",
    "                        data = pd.read_excel(filePath, sheet_name=sheetname, header=data_start_row-2)\n",
    "                        data.fillna('', inplace=True)\n",
    "                        # data = data.iloc[data_start_row::]\n",
    "                        data = data.astype(str)\n",
    "\n",
    "                        #rename $ with blank in every column name\n",
    "                        data.columns = data.columns.str.replace('', 'Unused')\n"
   ]
  },
  {
   "cell_type": "code",
   "execution_count": null,
   "metadata": {},
   "outputs": [],
   "source": [
    "\n",
    "                    '''Dont need to iterate through. Just replace with entire dictionary'''\n",
    "                    for _, item_list in partnumbers_to_change.items(): \n",
    "                        # Check if old partnumbers exist in DataFrame\n",
    "                        for item in item_list:\n",
    "                            if item in data.values:\n",
    "                                print(f'original: {item} exists in PSD: {filename}, sheet: {sheetname}')\n",
    "                            \n",
    "                    data.replace(partnumbers_to_change, replacements, inplace=True, regex=True)\n",
    "\n",
    "                    ### Writing to excel file\n",
    "                    # Write resulting dataframes to new sheet in PSD with changes.\n",
    "\n",
    "                    with pd.ExcelWriter(filePath, engine='openpyxl', mode='a', if_sheet_exists='overlay') as writer:  \n",
    "                        data.to_excel(writer, sheet_name=sheetname, index=False, header=False, startrow=data_start_row-1)\n",
    "                        # removals.to_excel(writer, sheet_name=tabName, index=False, header=False, startrow=append_location+1, startcol=psd_startcol)\n"
   ]
  }
 ],
 "metadata": {
  "interpreter": {
   "hash": "5d89935b22884bac8e846ef6a5fb14ff565b7e382ac92ebe1031401d4b8e3f29"
  },
  "kernelspec": {
   "display_name": "Python 3.10.2 64-bit",
   "language": "python",
   "name": "python3"
  },
  "language_info": {
   "codemirror_mode": {
    "name": "ipython",
    "version": 3
   },
   "file_extension": ".py",
   "mimetype": "text/x-python",
   "name": "python",
   "nbconvert_exporter": "python",
   "pygments_lexer": "ipython3",
   "version": "3.10.2"
  },
  "orig_nbformat": 4
 },
 "nbformat": 4,
 "nbformat_minor": 2
}
