{
 "cells": [
  {
   "cell_type": "code",
   "execution_count": 1,
   "metadata": {},
   "outputs": [
    {
     "data": {
      "text/plain": [
       "'\\nNEED TO BLOCK COMPONENTS AND PHANTOMS SINCE THE 1020 3/4 IS NOW THE\\n1020 5/6\\nNEED TO UPDATE GXS WITH NEW NUMBERS AND UPDATED PUMP DESCRIPTION\\n\\nTHERE ARE 4 DIFFERENCES WITH THE CASE CHANGE\\n1- NO PERFORMANCE CHANGE\\n2- APPEARNACE CHANGE BECAUSE OF THE ADDED RIBS WHICH CHANGED 2 OTHER\\nCOMPONENTS\\n3- 4 LONGER CAPSCREWS\\n4- SLIGHT CHANGE TO THE GASKET WITH THE SHIFT IN THE BOLT HOLES\\nNO CHANGE TO EXISTING KITS- REVISIONS WERE MADE TO THESE BOMS\\n\\n1020 CASING (BUY COMPONENT) CHANGE KP\\n125# 91840054 CHANGED TO 99717392       # Not Found\\n250# 91840056 CHANGED TO 99717485       # Not Found\\n\\n1020 PHANTOM CHANGE\\n250# 98441969 CHANGED TO 92758523       # Not Found\\n125# 96698939 CHANGED TO 92758528       # in KPbom.xlsx \\n\\nHARDWARE PHANTOM CHANGED\\nKP\\nGRADE 5 96698968 CHANGE TO 92758121     # in KPbom.xlsx\\nGRADE 8 96768950 CHANGE TO 92758767     # in KPbom.xlsx\\nKPVS\\nGRADE 5 99413027 CHANGE TO 92758120     # Not Found\\nGRADE 8 NEW NUMBER         92758769     # ??\\n\\nBOMS THAT HAVE BEEN CHANGED ARE IN THE FILE\\n'"
      ]
     },
     "execution_count": 1,
     "metadata": {},
     "output_type": "execute_result"
    }
   ],
   "source": [
    "\"\"\"\n",
    "NEED TO BLOCK COMPONENTS AND PHANTOMS SINCE THE 1020 3/4 IS NOW THE\n",
    "1020 5/6\n",
    "NEED TO UPDATE GXS WITH NEW NUMBERS AND UPDATED PUMP DESCRIPTION\n",
    "\n",
    "THERE ARE 4 DIFFERENCES WITH THE CASE CHANGE\n",
    "1- NO PERFORMANCE CHANGE\n",
    "2- APPEARNACE CHANGE BECAUSE OF THE ADDED RIBS WHICH CHANGED 2 OTHER\n",
    "COMPONENTS\n",
    "3- 4 LONGER CAPSCREWS\n",
    "4- SLIGHT CHANGE TO THE GASKET WITH THE SHIFT IN THE BOLT HOLES\n",
    "NO CHANGE TO EXISTING KITS- REVISIONS WERE MADE TO THESE BOMS\n",
    "\n",
    "1020 CASING (BUY COMPONENT) CHANGE KP\n",
    "125# 91840054 CHANGED TO 99717392       # Not Found\n",
    "250# 91840056 CHANGED TO 99717485       # Not Found\n",
    "\n",
    "1020 PHANTOM CHANGE\n",
    "250# 98441969 CHANGED TO 92758523       # Not Found\n",
    "125# 96698939 CHANGED TO 92758528       # in KPbom.xlsx \n",
    "\n",
    "HARDWARE PHANTOM CHANGED\n",
    "KP\n",
    "GRADE 5 96698968 CHANGE TO 92758121     # in KPbom.xlsx\n",
    "GRADE 8 96768950 CHANGE TO 92758767     # in KPbom.xlsx\n",
    "KPVS\n",
    "GRADE 5 99413027 CHANGE TO 92758120     # Not Found\n",
    "GRADE 8 NEW NUMBER         92758769     # ??\n",
    "\n",
    "BOMS THAT HAVE BEEN CHANGED ARE IN THE FILE\n",
    "\"\"\""
   ]
  },
  {
   "cell_type": "code",
   "execution_count": 2,
   "metadata": {},
   "outputs": [],
   "source": [
    "import os\n",
    "import openpyxl\n",
    "import pandas as pd"
   ]
  },
  {
   "cell_type": "code",
   "execution_count": 3,
   "metadata": {},
   "outputs": [],
   "source": [
    "partnumbers_to_change = {\n",
    "    '91840054':'99717392',\n",
    "    '91840056':'99717485',\n",
    "    '98441969':'92758523',\n",
    "    '96698939':'92758528',     # in KPbom.xlsx \n",
    "    '96698968':'92758121',     # in KPbom.xlsx\n",
    "    '96768950':'92758767',     # in KPbom.xlsx\n",
    "    '99413027':'92758120',\n",
    "    '1020-3/4':'1020-5/6',\n",
    "    '\\1020-3_4':'1020-5_6',\n",
    "    'Desc-1020-3_4-KP_4':'Desc-1020-5_6-KP_6',\n",
    "    'Desc-1020-3_4-KP_3':'Desc-1020-5_6-KP_5'\n",
    "}"
   ]
  },
  {
   "cell_type": "code",
   "execution_count": 4,
   "metadata": {},
   "outputs": [],
   "source": [
    "myDir = r'C:\\Users\\104092\\OneDrive - Grundfos\\Documents\\10-19 Projects\\15 KP-KPV-KPVS Updates\\PSDs'\n",
    "\n",
    "for root, dirs, files in os.walk(myDir):\n",
    "    for filename in files:\n",
    "        filePath = os.path.join(myDir, filename)\n",
    "        # print(filePath)\n",
    "        \n",
    "        wb = openpyxl.load_workbook(filePath)\n",
    "\n",
    "        for sheet in wb.worksheets:\n",
    "            if sheet.title == 'Case':   # Iterate through PSDs andd other tabs\n",
    "                    \n",
    "                # Read in Excel sheet to a dataframe\n",
    "                sheetname = sheet.title\n",
    "                data = pd.read_excel(filePath, sheet_name=sheetname)\n",
    "                data = data.astype(str)\n",
    "\n",
    "                for old_pn, new_pn in partnumbers_to_change.items():\n",
    "                    # Check if old partnumbers exist in DataFrame\n",
    "                    if old_pn in data.values:\n",
    "                        print(f'old_pn: {old_pn} exists in PSD: {filename}, sheet: {sheetname}')\n",
    "                        \n",
    "                        print(f'old_pn type: {old_pn.__class__}, match_value type: {type(data.iloc[177,0])}')\n",
    "                        data.replace(to_replace=old_pn, value=new_pn, inplace=True, regex=True)\n",
    "\n",
    "                        print(data)\n",
    "            \n",
    "                        # Fix formatting\n",
    "                        from openpyxl.styles import PatternFill\n",
    "                        for rows in sheet.iter_rows(min_row=1, max_row=6, min_col=1, max_col=40):\n",
    "                            for cell in rows:\n",
    "                                cell.fill = PatternFill(start_color=\"FFAE42\", end_color=\"FFAE42\", fill_type=\"solid\")\n",
    "\n",
    "                        wb.save(filePath)\n",
    "\n",
    "                        ### Writing to excel file\n",
    "                        # Write resulting dataframes to new sheet in PSD with changes.\n",
    "                        psd_startrow = 1\n",
    "                        psd_startcol = 1\n",
    "\n",
    "                        with pd.ExcelWriter(filePath, engine='openpyxl', mode='a', if_sheet_exists='overlay') as writer:  \n",
    "                            data.to_excel(writer, sheet_name=sheetname, index=False, startrow=psd_startrow, startcol=psd_startcol)\n",
    "                            # removals.to_excel(writer, sheet_name=tabName, index=False, header=False, startrow=append_location+1, startcol=psd_startcol)\n",
    "\n",
    "                        # Remove original tab, replace with new one?\n"
   ]
  }
 ],
 "metadata": {
  "interpreter": {
   "hash": "5d89935b22884bac8e846ef6a5fb14ff565b7e382ac92ebe1031401d4b8e3f29"
  },
  "kernelspec": {
   "display_name": "Python 3.10.2 64-bit",
   "language": "python",
   "name": "python3"
  },
  "language_info": {
   "codemirror_mode": {
    "name": "ipython",
    "version": 3
   },
   "file_extension": ".py",
   "mimetype": "text/x-python",
   "name": "python",
   "nbconvert_exporter": "python",
   "pygments_lexer": "ipython3",
   "version": "3.10.2"
  },
  "orig_nbformat": 4
 },
 "nbformat": 4,
 "nbformat_minor": 2
}
