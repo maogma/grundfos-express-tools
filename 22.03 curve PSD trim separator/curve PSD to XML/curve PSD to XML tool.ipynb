{
 "cells": [
  {
   "cell_type": "markdown",
   "metadata": {},
   "source": [
    "Takes Curve PSD (.xslx) and outputs the xml representation of the PSD. "
   ]
  },
  {
   "cell_type": "markdown",
   "metadata": {},
   "source": [
    "##### Pseudo Code"
   ]
  },
  {
   "cell_type": "markdown",
   "metadata": {},
   "source": [
    "- [X] Parse \"Curve Header Data\" tab from curve PSD\n",
    "- [X] Create dictionary/dataframe?\n",
    "- [X] Create Root element and namespace ('SKBData')\n",
    "- [X] Add Child Element and attributes('CurveFamily')\n",
    "- [ ] Convert and insert header_dict as grandchildren of CurveFamily Element\n",
    "- [ ] Create (w/ modified values) and Insert 'pumpCurveCollection' element for each tab in NBS Curve PSD\n",
    "- [ ] Create and Insert 'Impeller' Element as children to 'pumpCurveCollection' element."
   ]
  },
  {
   "cell_type": "markdown",
   "metadata": {},
   "source": [
    "##### Imports, File Setup"
   ]
  },
  {
   "cell_type": "code",
   "execution_count": 17,
   "metadata": {},
   "outputs": [],
   "source": [
    "from lxml import etree as ET\n",
    "import os\n",
    "import pandas as pd\n",
    "import re"
   ]
  },
  {
   "cell_type": "code",
   "execution_count": 18,
   "metadata": {},
   "outputs": [],
   "source": [
    "# Use these files to grab info off of original NBS curve export.\n",
    "fileDir = r\"C:\\Ogma DB Files\"\n",
    "filename = \"NBS_Std_Curve_Export 2022-12-7.xml\"\n",
    "filepath = os.path.join(fileDir, filename)\n",
    "\n",
    "import xml.etree.ElementTree as ET2 # Had to use ElementTree for \"copy_values_from_source_xml\" function. Better documentation \n",
    "\n",
    "src_tree = ET2.parse(filepath)\n",
    "src_root = src_tree.getroot()"
   ]
  },
  {
   "cell_type": "code",
   "execution_count": 19,
   "metadata": {},
   "outputs": [],
   "source": [
    "# Pointing to new curve PSD with trims already separated.\n",
    "psd_path = r\"C:\\Users\\104092\\OneDrive - Grundfos\\Documents\\10-19 Projects\\12 NBS Curve PSD Separation\\12.02 Output Files\"\n",
    "psd_file = r\"Populated Curve PSD.xlsx\"\n",
    "psd_filepath = os.path.join(psd_path, psd_file)"
   ]
  },
  {
   "cell_type": "markdown",
   "metadata": {},
   "source": [
    "##### Custom Fields/Variables"
   ]
  },
  {
   "cell_type": "code",
   "execution_count": 20,
   "metadata": {},
   "outputs": [],
   "source": [
    "# Custom Fields\n",
    "root_ns = \"http://www.w3.org/2001/XMLSchema-instance\"\n",
    "\n",
    "curve_family_name = \"NBS_Fixed_Trim\""
   ]
  },
  {
   "cell_type": "markdown",
   "metadata": {},
   "source": [
    "##### Functions "
   ]
  },
  {
   "cell_type": "code",
   "execution_count": 21,
   "metadata": {},
   "outputs": [],
   "source": [
    "def add_namespace(elem_tag, xsi_namespace):\n",
    "    \"\"\"Adds namespace to root node.\"\"\"\n",
    "    XHTML_NAMESPACE = xsi_namespace\n",
    "    XHTML = \"{%s}\" % XHTML_NAMESPACE\n",
    "    NSMAP = {'xsi' : XHTML_NAMESPACE} # the default namespace (no prefix)\n",
    "\n",
    "    return ET.Element(elem_tag, nsmap=NSMAP) # lxml only!"
   ]
  },
  {
   "cell_type": "code",
   "execution_count": 22,
   "metadata": {},
   "outputs": [],
   "source": [
    "def add_elem_from_dict(parent_elem, elem_dict):\n",
    "    \"\"\"Takes elements inside elem_dict and adds as elements to parent_elem\"\"\"\n",
    "    for key, value in elem_dict.items():\n",
    "        elem = ET.SubElement(parent_elem, key)\n",
    "        elem.text = str(value)"
   ]
  },
  {
   "cell_type": "code",
   "execution_count": 23,
   "metadata": {},
   "outputs": [],
   "source": [
    "def copy_values_from_source_xml(updates_list, new_curve_num) -> dict:\n",
    "    \"\"\"Use this function to grab certain Impeller parameters not explicitly stated in curve PSD format. \"\"\"\n",
    "    # Extract diameter (in mm) from curve name\n",
    "    res = re.search(\"-(\\d+)_Std\", new_curve_num)\n",
    "    curve_trim_size_mm = int(res.group(1))\n",
    "    # print(f'curve trim size in mm: {curve_trim_size_mm} mm')\n",
    "\n",
    "    updates_dict = {}\n",
    "\n",
    "    # List of all <pumpCurveCollection> nodes  \n",
    "    for elem in src_root.findall(\".//pumpCurveCollection\"):       \n",
    "\n",
    "        # Get reference diameter from original nbs curve xml to compare to trim in new curve xml\n",
    "        original_curve = elem.find('curveNumber').text  # 012-070-2P\n",
    "\n",
    "        if original_curve[:-4] in new_curve_num: # original_Curve: 012-070-2P, new_curve: 012-070-2P-109_Std\n",
    "            # print(f'original_Curve: {original_curve[:-4]}, new_curve: {new_curve_num}')\n",
    "            # Get Impeller node to dig into\n",
    "            for impeller_node in elem.findall('.//Impeller'):\n",
    "                x = impeller_node.find('./diameter')              \n",
    "                diameters_int = round(float(x.text))\n",
    "                if curve_trim_size_mm == diameters_int:\n",
    "                    # print(f\"diameters_int: {diameters_int}, type: {type(diameters_int)}, curve_trim_mm: {curve_trim_size_mm}, type: {type(curve_trim_size_mm)}\")         \n",
    "                    for item in updates_list:\n",
    "                        updates_dict.update({ item: impeller_node.find('./'+item).text })\n",
    "         \n",
    "            # print(f\"updates_dict: {updates_dict}\")\n",
    "            return(updates_dict)"
   ]
  },
  {
   "cell_type": "code",
   "execution_count": 24,
   "metadata": {},
   "outputs": [],
   "source": [
    "def create_impeller_dict(new_curve_number) -> dict:\n",
    "\t\"\"\"Creates dict of attributes to add to each Impeller node. \"\"\"\n",
    "\n",
    "    # Need to get these from nbs curve export \n",
    "\tupdates_list = [\n",
    "\t\t'diameter',\n",
    "\t\t'flowBEPFixed',\n",
    "\t\t'etaBEPFixed',\n",
    "\t\t'motorRatingMin',\n",
    "\t\t'motorRatingMax'\n",
    "\t\t]\n",
    "\t\n",
    "\t# append_dict contains appropriate values for attributes/tags in updates_list\n",
    "\tappend_dict = copy_values_from_source_xml(updates_list, new_curve_number)\n",
    "\t\n",
    "\t# If any of the below are important, add tag to updates_list\n",
    "\timpeller_dict = {\n",
    "\t'diameterHubSide':'0.0',\n",
    "\t'weight':'0.0',\n",
    "\t'surgeFlow':'0.0',\n",
    "\t'flowStartEta':'0.0',\n",
    "\t'flowStartHead':'0.0',\n",
    "\t'flowStartNPSH':'0.0',\n",
    "\t'flowStartNPSH0Percent':'0.0',\n",
    "\t'flowStartNPSHIncipient':'0.0',\n",
    "\t'flowStopNPSH':'0.0',\n",
    "\t'flowStopNPSH0Percent':'0.0',\n",
    "\t'flowStopNPSHIncipient':'0.0',\n",
    "\t'flowStartSubmergence':'0.0',\n",
    "\t'flowStartPower':'0.0',\n",
    "\t'powerShutoffFixedEnabled':'false',\n",
    "\t'powerShutoffFixed':'0.0',\n",
    "\t'bepFixedEnabled':'true',\n",
    "\t'solveVariantMin':'0.0',\n",
    "\t'solveVariantMax':'0.0',\n",
    "\t'minimumVolumetricEfficiency':'0.0',\n",
    "\t'minimumVolumetricEfficiencyRated':'0.0',\n",
    "\t'maximumDifferentialPressure':'0.0',\n",
    "\t'stopFlow':'0.0'\n",
    "\t}\n",
    "\t\n",
    "\tappend_dict.update(impeller_dict)\n",
    "\t# print(f\"final dict to be added: {append_dict}\")\n",
    "\t\n",
    "\treturn(append_dict)"
   ]
  },
  {
   "cell_type": "code",
   "execution_count": 25,
   "metadata": {},
   "outputs": [],
   "source": [
    "def create_pump_curve_dict(row) -> dict:\n",
    "    \"\"\"Returns dictionary of updated attributes to be converted to elements \"\"\"\n",
    "\t\n",
    "    pumpCurve_dict = {\n",
    "        'curveNumber': row['Curve number'],\n",
    "        'speedRef': row['Speed, data'],\n",
    "        'polesRef': row['Poles'],\n",
    "        'hzRef': row['Hz'],\n",
    "        'mcsfMinRef': row['MCSF @ min impeller diameter'],\n",
    "        'mcsfMaxRef': row['MCSF @ max impeller diameter'],\n",
    "        'eyeCount': row['Number of impeller eyes'],\n",
    "        'speedCurveNominal': row['Speed, nominal'],\n",
    "        'speedCurveMin': row['Speed, Min'],\n",
    "        'speedCurveMax': row['Speed, max'],\n",
    "        'diaImpInc': row['Diameter increment'],\n",
    "        'speedVariableCurveMin': row['Variable speed min limit'],\n",
    "        'optionalCurveType': 'Power',\n",
    "        'flowStartHeadEnabled': 'false',\n",
    "        'flowStartEtaEnabled': 'false',\n",
    "        'flowStartPowerEnabled': 'false',\n",
    "        'speedVariableCurveMax':'0',\n",
    "\t\t'flowStartNPSHEnabled':'false',\n",
    "\t\t'flowStopNPSHEnabled':'false',\n",
    "\t\t'flowStartSubmergenceEnabled':'false',\n",
    "\t\t'extendNpshToMcsfMin':'false',\n",
    "\t\t'catalogTrimsSelectionMode':'0',\n",
    "\t\t'styleCurveBelowStart':'none',\n",
    "\t\t'flowExponentTrim':'1.0',\n",
    "\t\t'headExponentTrim':'2.0',\n",
    "\t\t'npshExponentTrim':'0.0',\n",
    "\t\t'etaExponentTrim':'0.0',\n",
    "\t\t'powerDriverFixed':'0.0',\n",
    "\t\t'quantityMotors':'1',\n",
    "\t\t'serviceFactorDriverFixed':'1.0',\n",
    "\t\t'serviceFactorDriverFixedUsed':'false',\n",
    "\t\t'flowExponentSpeed':'1.0',\n",
    "\t\t'headExponentSpeed':'2.0',\n",
    "\t\t'etaExponentSpeedReduced':'0.0',\n",
    "\t\t'etaExponentSpeedIncreased':'0.0',\n",
    "\t\t'npshExponentSpeedReduced':'2.0',\n",
    "\t\t'npshExponentSpeedIncreased':'2.0',\n",
    "\t\t'submergenceExponentSpeedReduced':'2.0',\n",
    "\t\t'submergenceExponentSpeedIncreased':'2.0',\n",
    "\t\t'hideEfficiencyInSelector':'false',\n",
    "\t\t'speedOfSoundRef':'331.6583',\n",
    "\t\t'speedOfSoundExpFlow':'1.0',\n",
    "\t\t'speedOfSoundExpHead':'2.0',\n",
    "\t\t'speedOfSoundExpEta':'0.0',\n",
    "\t\t'speedOfSoundExpEtaTotal':'0.0',\n",
    "\t\t'temperatureGasInletSkb':'20.0',\n",
    "\t\t'pressureGasInletSkb':'1.01325',\n",
    "\t\t'relativeHumidityGasSkb':'50.0',\n",
    "\t\t'diaRotatingElement':'0.0',\n",
    "\t\t'solveVariantDisplayStrategy':'2',\n",
    "\t\t'flowStopPercentBEP':'0.0',\n",
    "\t\t'headMarginFixedDia':'0.0',\n",
    "\t\t'headMarginFixedDiaPercentage':'0.0',\n",
    "\t\t'submergenceVortexMin':'0.0',\n",
    "\t\t'submergenceStartupMin':'0.0',\n",
    "\t\t'thrustFactor':'0.0',\n",
    "\t\t'thrustFactorBalanced':'0.0',\n",
    "\t\t'displayBothDiameters':'false',\n",
    "\t\t'isoEfficiencyValues':'56:62:65:68',\n",
    "\t\t'moiFirstStage':'0.0',\n",
    "\t\t'moiAdditionalStage':'0.0',\n",
    "\t\t'moiPumpCoupling':'0.0',\n",
    "\t\t'flowMaxAllowedMinRef':'0.0',\n",
    "\t\t'flowMaxAllowedMaxRef':'0.0',\n",
    "\t\t'loadRadialRef':'0.0'\n",
    "\t\t}\n",
    "\n",
    "    return pumpCurve_dict"
   ]
  },
  {
   "cell_type": "code",
   "execution_count": 26,
   "metadata": {},
   "outputs": [],
   "source": [
    "# This is only if US units are required for import into SKB.\n",
    "# def metric_to_us(input_value, parameter_type:str):\n",
    "\n",
    "#     if parameter_type == 'flow':\n",
    "#         return input_value * 4.40286764029913\n",
    "#     elif parameter_type == 'distance':\n",
    "#         return input_value * 3.28083989501312\n",
    "#     elif parameter_type == 'power':\n",
    "#         return input_value * 1.3410218586563\n",
    "#     else:\n",
    "#         print(\"non valid parameter type entered\")"
   ]
  },
  {
   "cell_type": "code",
   "execution_count": 27,
   "metadata": {},
   "outputs": [],
   "source": [
    "def add_curve_data_points(parent_elem, curve_number, curve_type):\n",
    "    \"\"\" Adds curve data points for flow/power, flow/head, flow/NPSH \"\"\"\n",
    "\n",
    "    # Opens relevant curve tab in PSD, and grabs flow, head, power, npsh columns\n",
    "    curve_data_df = pd.read_excel(psd_filepath,sheet_name=curve_number, header=7, skiprows=[8], usecols=\"D,E,L,S\", nrows=50)\n",
    "    curve_data_df = curve_data_df.dropna()\n",
    "    \n",
    "    # Iterate through curve data df and create dicts of each data point that will be added as nodes to output xml\n",
    "    for index, row in curve_data_df.iterrows():\n",
    "        datapoint_elem = ET.SubElement(parent_elem, \"DataPoint\", disabled=\"false\")\n",
    "        \n",
    "        if curve_type == 'Power':\n",
    "            datapoint_dict = {\n",
    "                # 'x': metric_to_us(row['Flow'], \"flow\"),\n",
    "                # 'y': metric_to_us(row[curve_type], 'power'),\n",
    "                'x': row['Flow'],\n",
    "                'y': row[curve_type],\n",
    "                'isOnCurve':'false',\n",
    "                'division':'false',\n",
    "                'useCubicSplines':'false',\n",
    "                'slopeEnabled':'false'\n",
    "            }\n",
    "\n",
    "        elif (curve_type == 'Head'):\n",
    "            datapoint_dict = {\n",
    "                # 'x': metric_to_us(row['Flow'], \"flow\"),\n",
    "                # 'y': metric_to_us(row[curve_type], 'distance'),\n",
    "                'x': row['Flow'],\n",
    "                'y': row[curve_type],\n",
    "                'isOnCurve':'false',\n",
    "                'division':'false',\n",
    "                'useCubicSplines':'true',\n",
    "                'slopeEnabled':'false'\n",
    "            }\n",
    "\n",
    "        elif (curve_type == 'NPSH'):\n",
    "            datapoint_dict = {\n",
    "                # 'x': metric_to_us(row['Flow'], \"flow\"),\n",
    "                # 'y': metric_to_us(row[curve_type], 'distance'),\n",
    "                'x': row['Flow'],\n",
    "                'y': row[curve_type],\n",
    "                'isOnCurve':'false',\n",
    "                'division':'false',\n",
    "                'useCubicSplines':'false',\n",
    "                'slopeEnabled':'false'\n",
    "            }\n",
    "\n",
    "\n",
    "        else:\n",
    "            print(f'curve_type not allowed: {curve_type}')\n",
    "            \n",
    "        add_elem_from_dict(datapoint_elem, datapoint_dict)"
   ]
  },
  {
   "cell_type": "code",
   "execution_count": 28,
   "metadata": {},
   "outputs": [],
   "source": [
    "def add_curve(parent_elem, curve_type:str, curve_number):\n",
    "    \"\"\" Creates <Curve> parent element, and adds specified curve to xml \"\"\"\n",
    "    curve_elem = ET.SubElement(parent_elem, 'Curve', type=curve_type)\n",
    "\n",
    "    # Add Curve Data Points to Curve Element\n",
    "    add_curve_data_points(curve_elem, curve_number, curve_type)"
   ]
  },
  {
   "cell_type": "markdown",
   "metadata": {},
   "source": [
    "##### Create Root Element (and namespace)"
   ]
  },
  {
   "cell_type": "code",
   "execution_count": 29,
   "metadata": {},
   "outputs": [],
   "source": [
    "root = add_namespace('SKBData', root_ns)"
   ]
  },
  {
   "cell_type": "markdown",
   "metadata": {},
   "source": [
    "##### Create CurveFamily Element as subelem to root"
   ]
  },
  {
   "cell_type": "code",
   "execution_count": 30,
   "metadata": {},
   "outputs": [],
   "source": [
    "# Add <CurveFamily> node\n",
    "curveFamily_elem = ET.SubElement(root, \"CurveFamily\", selectorVersion=\"8.0.0\", skbVersion=\"22.2.0.220418.623\")\n",
    "\n",
    "header_dict = {\n",
    "        'name': curve_family_name,\n",
    "        'impellerTyp':'radialFlow',\n",
    "        'svDataType':'impellerDiamter',\n",
    "        'interpDataType':'impellerDiamter',\n",
    "        'compressorConditionsInputTypeSkb':'speedOfSound',\n",
    "        'flowTypeSkb':'volumetricFlow',\n",
    "        'headTypeSkb':'head',\n",
    "        'headMarginForFixedDiameter':'value',\n",
    "        'submergenceMethod':'fixedValue',\n",
    "        'errorFitMax':'1.5',\n",
    "        'pumpType':'0',\n",
    "        'interpQty':'4',\n",
    "        'efficiencyPowerDataType':'pump'}\n",
    "\n",
    "add_elem_from_dict(curveFamily_elem, header_dict)"
   ]
  },
  {
   "cell_type": "markdown",
   "metadata": {},
   "source": [
    "##### Inserting UnitofMeasureSettings as subelement to CurveFamily"
   ]
  },
  {
   "cell_type": "code",
   "execution_count": 31,
   "metadata": {},
   "outputs": [],
   "source": [
    "# unitOfMeasureSettings\n",
    "with open('unitofmeasuresettings-boilerplate.txt','r') as file:\n",
    "\tunit_of_measure_settings = file.read()\n",
    "\t\n",
    "uom_element = ET.fromstring(unit_of_measure_settings)\n",
    "curveFamily_elem.append(uom_element)"
   ]
  },
  {
   "cell_type": "markdown",
   "metadata": {},
   "source": [
    "##### Add pumpCurveCollection for each curve tab"
   ]
  },
  {
   "cell_type": "code",
   "execution_count": null,
   "metadata": {},
   "outputs": [],
   "source": [
    "curve_header_data = pd.read_excel(psd_filepath,sheet_name=\"Curve Header Data\", header=8, skiprows=[9])\n",
    "\n",
    "# Need to set appropriate values before adding to XML tree. Will need to iterate through curve_header_data to update values.\n",
    "for index, row in curve_header_data.iterrows():\n",
    "    \n",
    "    # <pumpCurveCollection xsi:type=\"CentrifugalPumpCurveCollection\"> This is the parent of each pump curve\"\n",
    "    qname = ET.QName(root_ns,\"type\")\n",
    "    pumpCurveCollection_elem = ET.SubElement(curveFamily_elem, 'pumpCurveCollection', {qname: \"CentrifugalPumpCurveCollection\"})\n",
    "\n",
    "    # Creates pump curve elements\n",
    "    curve_dict = create_pump_curve_dict(row)\n",
    "    add_elem_from_dict(pumpCurveCollection_elem, curve_dict)\n",
    "\n",
    "    # Add Impeller Elements\n",
    "    impeller_elem = ET.SubElement(pumpCurveCollection_elem, 'Impeller')\n",
    "    impeller_dict = create_impeller_dict(row['Curve number'])\n",
    "    add_elem_from_dict(impeller_elem, impeller_dict)\n",
    "\n",
    "    # Add Curve Elements\n",
    "    add_curve(impeller_elem, \"Head\", row['Curve number'])\n",
    "    add_curve(impeller_elem, \"Power\", row['Curve number'])\n",
    "    add_curve(impeller_elem, \"NPSH\", row['Curve number'])    "
   ]
  },
  {
   "cell_type": "markdown",
   "metadata": {},
   "source": [
    "##### Write to file"
   ]
  },
  {
   "cell_type": "code",
   "execution_count": null,
   "metadata": {},
   "outputs": [],
   "source": [
    "et = ET.ElementTree(root)\n",
    "et.write('from gpc - nbs_fixed_trim_all_curves.xml', pretty_print=True)"
   ]
  }
 ],
 "metadata": {
  "interpreter": {
   "hash": "5d89935b22884bac8e846ef6a5fb14ff565b7e382ac92ebe1031401d4b8e3f29"
  },
  "kernelspec": {
   "display_name": "Python 3.10.2 64-bit",
   "language": "python",
   "name": "python3"
  },
  "language_info": {
   "codemirror_mode": {
    "name": "ipython",
    "version": 3
   },
   "file_extension": ".py",
   "mimetype": "text/x-python",
   "name": "python",
   "nbconvert_exporter": "python",
   "pygments_lexer": "ipython3",
   "version": "3.10.2"
  },
  "orig_nbformat": 4
 },
 "nbformat": 4,
 "nbformat_minor": 2
}
