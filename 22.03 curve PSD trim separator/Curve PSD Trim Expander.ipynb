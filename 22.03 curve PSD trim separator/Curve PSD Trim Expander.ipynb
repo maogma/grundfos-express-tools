{
 "cells": [
  {
   "cell_type": "markdown",
   "metadata": {},
   "source": [
    "#### Notes"
   ]
  },
  {
   "cell_type": "code",
   "execution_count": 16,
   "metadata": {},
   "outputs": [],
   "source": [
    "# ###############################################################################\n",
    "# 1. Load excel\n",
    "# 2. Find only tabs with \"P\"\n",
    "# 3. Count how many diameters (curve tables) there are in Column A\n",
    "#    a. Make that many duplicate tabs\n",
    "#    b. Rename tabs to include Diameter\n",
    "#    c. Delete the unnecessary tables that don't match the diameter for the tab'  \n",
    "# 4. save to excel file\n",
    "###############################################################################"
   ]
  },
  {
   "cell_type": "markdown",
   "metadata": {},
   "source": [
    "#### Diameter Extraction Function"
   ]
  },
  {
   "cell_type": "code",
   "execution_count": 17,
   "metadata": {},
   "outputs": [],
   "source": [
    "\"\"\"Returns list of all the trim diameters from cells A10-A21\"\"\"    \n",
    "def extract_diameters(sh):\n",
    "    list_of_diams = []    \n",
    "    for row in sh.iter_rows(min_row=10, max_col=1, max_row=21):\n",
    "        for cell in row:\n",
    "            if cell.value != None:\n",
    "                list_of_diams.append(cell.value)\n",
    "        \n",
    "    return(list_of_diams)"
   ]
  },
  {
   "cell_type": "markdown",
   "metadata": {},
   "source": [
    "#### Reset Column A function"
   ]
  },
  {
   "cell_type": "code",
   "execution_count": 18,
   "metadata": {},
   "outputs": [],
   "source": [
    "\"\"\"Sets only 1 diameter in diameter column\"\"\"\n",
    "def reset_column_A(diameter, sh, diameters_list):\n",
    "    for count, value in enumerate(diameters_list):\n",
    "        cell_to_change = \"{}{}\".format('A',10+count)\n",
    "        cell_to_change2 = \"{}{}\".format('B',10+count)\n",
    "        \n",
    "        if count == 0:\n",
    "            sh[cell_to_change].value = diameter\n",
    "            sh[cell_to_change2].value = str(diameter) + '-' + str(diameter)\n",
    "        else:\n",
    "            sh[cell_to_change].value = ''\n",
    "            sh[cell_to_change2].value = ''   \n",
    "            \n",
    "    return"
   ]
  },
  {
   "cell_type": "markdown",
   "metadata": {},
   "source": [
    "#### Get Diameter Cells"
   ]
  },
  {
   "cell_type": "code",
   "execution_count": 19,
   "metadata": {},
   "outputs": [],
   "source": [
    "\"\"\" Returns list of all cells with trims/diameters in curve PSD\"\"\"   \n",
    "def getDiameterCells(list_of_trims):\n",
    "    from openpyxl.utils.cell import get_column_letter\n",
    "\n",
    "    max_cols = 21 * len(list_of_trims)\n",
    "    row = 7    \n",
    "    first_col = 4\n",
    "\n",
    "    # Assuming diameters are listed from largest to smallest, here we locate where curve data is for other trims.\n",
    "    diameter_cols_number = sorted(list(range(first_col,max_cols,21)), reverse=True)\n",
    "    \n",
    "    # Convert col numbers to col letters for excel\n",
    "    diameter_cols_str = [get_column_letter(x) for x in diameter_cols_number]\n",
    "    \n",
    "    # Concatenate column letter and row number to create cell coordinates for each trim\n",
    "    diameter_cells = [col_ltr + row for col_ltr  in diameter_cols_str]\n",
    "\n",
    "    return diameter_cells"
   ]
  },
  {
   "cell_type": "markdown",
   "metadata": {},
   "source": [
    "#### Remove Curve Data Function"
   ]
  },
  {
   "cell_type": "code",
   "execution_count": 20,
   "metadata": {},
   "outputs": [],
   "source": [
    "\"\"\" Deletes curve data not pertaining to current diameter for the tab\"\"\"    \n",
    "def removeCurveData(diameter, sh, list_of_trims):\n",
    "    from openpyxl.utils.cell import coordinate_from_string, column_index_from_string, get_column_letter\n",
    "\n",
    "    first_col = 4\n",
    "    max_cols = 21 * len(list_of_trims)\n",
    "    row = 7    \n",
    "\n",
    "    # Assuming diameters are listed from largest to smallest, here we locate where curve data is for other trims.\n",
    "    diameter_cols_idx = sorted(list(range(first_col,max_cols,21)), reverse=True)\n",
    "   \n",
    "    for col_index in diameter_cols_idx:\n",
    "        # print(f'col_index: {col_index} type: {type(col_index)}')\n",
    "        # print(f'col_index: {col_index} type: {type(col_index)}')\n",
    "        cell = get_column_letter(col_index) + str(row)\n",
    "        \n",
    "        # Check diameter values in row 7. IF diameter doesn't match, delete the following 21 columns\n",
    "        # print(\"Before Delete - Cell: {} contains {}\".format(cell,sh[cell].value))\n",
    "        if sh[cell].value != diameter:    \n",
    "            sh.delete_cols(col_index, 21)\n",
    "            # print(\"After Delete - Cell: {} contains {}\".format(cell,sh[cell].value))\n",
    "        # IF the diameter matches, keep\n",
    "        else:\n",
    "            continue\n",
    "\n",
    "    return"
   ]
  },
  {
   "cell_type": "markdown",
   "metadata": {},
   "source": [
    "#### Creates PSD containing only std models"
   ]
  },
  {
   "cell_type": "code",
   "execution_count": 21,
   "metadata": {},
   "outputs": [],
   "source": [
    "import os\n",
    "from openpyxl import load_workbook\n",
    "import shutil\n",
    "\n",
    "myDir = r\"C:\\Users\\104092\\OneDrive - Grundfos\\Documents\\10-19 Projects\\12 NBS Curve PSD Separation\\12.01 Original Files\"\n",
    "myFile = \"GXS Curve_Conexus_V2.xlsx\"\n",
    "original = os.path.join(myDir, myFile)\n",
    "\n",
    "filename, file_ext = myFile.split(os.extsep)\n",
    "\n",
    "targetDir = r\"C:\\Users\\104092\\OneDrive - Grundfos\\Documents\\10-19 Projects\\12 NBS Curve PSD Separation\\12.02 Output Files\"\n",
    "std_target = os.path.join(targetDir, filename + \" - std models.\" + file_ext)\n",
    "shutil.copyfile(original, std_target) # Create copy to leave original untouched\n",
    "\n",
    "wb_std = load_workbook(std_target, data_only=True)"
   ]
  },
  {
   "cell_type": "code",
   "execution_count": 22,
   "metadata": {},
   "outputs": [],
   "source": [
    "trim_count = 0\n",
    "\n",
    "for sheet in wb_std.worksheets:\n",
    "    if '-E' in sheet.title:\n",
    "        wb_std.remove(sheet)    \n",
    "\n",
    "    # If tab with \"P\" is found at end of title, expand the trims found there.\n",
    "    elif sheet.title[-1] == 'P':\n",
    "        \n",
    "        # Extract all trims from the current sheet\n",
    "        diameters_list = extract_diameters(sheet)\n",
    "        # print(f\"Diameters in sheet {sheet.title} are here: {diameters_list}\")\n",
    "       \n",
    "        for eachDiameter in diameters_list:    \n",
    "            trim_count += 1    \n",
    "\n",
    "            # Add as many tabs as needed per diameter and rename to reflect diameter\n",
    "            newTabName = sheet.title + '-' + str(eachDiameter) + '_Std'\n",
    "            tab_to_copy = wb_std[sheet.title]  \n",
    "            wb_std.copy_worksheet(tab_to_copy).title = newTabName\n",
    "            \n",
    "            # Remove all additional diameters in column A\n",
    "            reset_column_A(eachDiameter, wb_std[newTabName], diameters_list)\n",
    "            \n",
    "            # Delete data that doesn't belong in the tab\n",
    "            removeCurveData(eachDiameter, wb_std[newTabName], diameters_list)\n",
    "        \n",
    "        # This removes the original tab \n",
    "        wb_std.remove(sheet)    \n",
    "\n",
    "print(f\"Total Amount of Trims Found: {trim_count}\")    \n",
    "    \n",
    "wb_std._sheets.sort(key=lambda ws: ws.title) # This sorts the new excel tabs by name.\n",
    "wb_std.save(std_target)"
   ]
  },
  {
   "cell_type": "markdown",
   "metadata": {},
   "source": [
    "#### Creates PSD containing only e models"
   ]
  },
  {
   "cell_type": "code",
   "execution_count": 69,
   "metadata": {},
   "outputs": [],
   "source": [
    "\n",
    "e_target = os.path.join(targetDir, filename + \" - e models.\" + file_ext)\n",
    "shutil.copyfile(original, e_target) # Create copy to leave original untouched\n",
    "\n",
    "wb_e = load_workbook(e_target, data_only=True)"
   ]
  },
  {
   "cell_type": "code",
   "execution_count": 70,
   "metadata": {},
   "outputs": [],
   "source": [
    "\n",
    "for sheet in wb_e.worksheets:\n",
    "    # If tab with \"P\" is found at end of title, remove from PSD\n",
    "    if sheet.title[-1] == 'P':\n",
    "        wb_e.remove(sheet)    \n",
    "        \n",
    "# wb_e._sheets.sort(key=lambda ws: ws.title) # This sorts the new excel tabs by name.\n",
    "wb_e.save(e_target)"
   ]
  }
 ],
 "metadata": {
  "interpreter": {
   "hash": "5d89935b22884bac8e846ef6a5fb14ff565b7e382ac92ebe1031401d4b8e3f29"
  },
  "kernelspec": {
   "display_name": "Python 3.10.2 64-bit",
   "language": "python",
   "name": "python3"
  },
  "language_info": {
   "codemirror_mode": {
    "name": "ipython",
    "version": 3
   },
   "file_extension": ".py",
   "mimetype": "text/x-python",
   "name": "python",
   "nbconvert_exporter": "python",
   "pygments_lexer": "ipython3",
   "version": "3.10.2"
  },
  "orig_nbformat": 4
 },
 "nbformat": 4,
 "nbformat_minor": 2
}
