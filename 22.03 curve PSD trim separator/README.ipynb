{
 "cells": [
  {
   "cell_type": "markdown",
   "metadata": {},
   "source": [
    "These scripts are used to take a curve psd with multiple trims, and separate each of the trims into their own tab in the curve PSD.\n",
    "\n"
   ]
  },
  {
   "cell_type": "markdown",
   "metadata": {},
   "source": [
    "\n",
    "### Curve PSD TRim Expander.ipynb -> Need to convert into function"
   ]
  },
  {
   "cell_type": "markdown",
   "metadata": {},
   "source": [
    "Purpose: Separates multiple trims per model in curve PSD to their own tabs. Removes E model sheets.\n",
    "\n",
    "Input: Curve PSD with multiple trims per tab\n",
    "Output: Curve PSD with 1 trim per tab for 'P' models, 1 PSD with only 'E' models (unprocessed)"
   ]
  },
  {
   "cell_type": "markdown",
   "metadata": {},
   "source": [
    "### Curve PSD Header Updater.ipynb -> Doesn't update Curve Family (Cell B7). Needs to be converted into a function"
   ]
  },
  {
   "cell_type": "markdown",
   "metadata": {},
   "source": [
    "Purpose: Updates 'Curve Header Data\" tab in Curve PSD to reflect newly created trim tabs\n",
    "\n",
    "Input: Curve PSD output from \"Curve PSD Trim Expander.ipynb\"\n",
    "Output: Curve PSD with updated Curve Header Data properly formatted for SKB"
   ]
  },
  {
   "cell_type": "markdown",
   "metadata": {},
   "source": [
    "#### Product Line XML Tool.ipynb -> Needs to be converted into a function"
   ]
  },
  {
   "cell_type": "markdown",
   "metadata": {},
   "source": [
    "Purpose: Takes NBS_Std XML export from SKB, and uses it as a template to create new xml to reflect newly separated trims as separate models in SKB.\n",
    "\n",
    "Input(s): NBS_Std XML export, Curve PSD Output from \"Curve PSD Header Updater.ipynb\"\n",
    "Output: Product Line XML file"
   ]
  },
  {
   "cell_type": "markdown",
   "metadata": {},
   "source": [
    "#### Curve PSD to XML Folder -> A lot of boilerplate/hardcoding. Needs Improvement. Needs to be converted into a function"
   ]
  },
  {
   "cell_type": "markdown",
   "metadata": {},
   "source": [
    "Purpose: This is a workaround for the SKB XML Import Tool, which is limited to ~150 tabs from a curve PSD. This creates a Curve PSD XML File to be imported into SKB.\n",
    "\n",
    "Input: NBS_Std Curve Export.xml, PSD from Curve PSD Header UPdater.ipynb, all files in this folder\n",
    "Output: Curve PSD XML file for import into SKB."
   ]
  }
 ],
 "metadata": {
  "interpreter": {
   "hash": "5d89935b22884bac8e846ef6a5fb14ff565b7e382ac92ebe1031401d4b8e3f29"
  },
  "kernelspec": {
   "display_name": "Python 3.10.2 64-bit",
   "language": "python",
   "name": "python3"
  },
  "language_info": {
   "name": "python",
   "version": "3.10.2"
  },
  "orig_nbformat": 4
 },
 "nbformat": 4,
 "nbformat_minor": 2
}
